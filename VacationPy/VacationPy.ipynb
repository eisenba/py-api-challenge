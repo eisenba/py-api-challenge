{
 "cells": [
  {
   "cell_type": "markdown",
   "metadata": {},
   "source": [
    "# VacationPy\n",
    "----\n",
    "\n",
    "#### Note\n",
    "* Keep an eye on your API usage. Use https://developers.google.com/maps/reporting/gmp-reporting as reference for how to monitor your usage and billing.\n",
    "\n",
    "* Instructions have been included for each segment. You do not have to follow them exactly, but they are included to help you think through the steps."
   ]
  },
  {
   "cell_type": "code",
   "execution_count": 1,
   "metadata": {},
   "outputs": [],
   "source": [
    "# Dependencies and Setup\n",
    "import matplotlib.pyplot as plt\n",
    "import pandas as pd\n",
    "import numpy as np\n",
    "import requests\n",
    "import gmaps\n",
    "import os\n",
    "\n",
    "# Import API key\n",
    "from config import g_key"
   ]
  },
  {
   "cell_type": "markdown",
   "metadata": {},
   "source": [
    "### Store Part I results into DataFrame\n",
    "* Load the csv exported in Part I to a DataFrame"
   ]
  },
  {
   "cell_type": "code",
   "execution_count": 29,
   "metadata": {},
   "outputs": [
    {
     "data": {
      "text/plain": [
       "100"
      ]
     },
     "execution_count": 29,
     "metadata": {},
     "output_type": "execute_result"
    }
   ],
   "source": [
    "# Load weatherdata.csv\n",
    "weather_df = pd.DataFrame(pd.read_csv('F:\\Matt\\GitHome\\py-api-challenge\\WeatherPy\\outputs\\weatherdata.csv'))\n",
    "weather_df = weather_df[['name','country','clouds','humidity','temp','max_temp','wind_spd','lat','lon']]\n",
    "weather_df['humidity'].max()"
   ]
  },
  {
   "cell_type": "markdown",
   "metadata": {},
   "source": [
    "### Humidity Heatmap\n",
    "* Configure gmaps.\n",
    "* Use the Lat and Lng as locations and Humidity as the weight.\n",
    "* Add Heatmap layer to map."
   ]
  },
  {
   "cell_type": "code",
   "execution_count": 33,
   "metadata": {},
   "outputs": [
    {
     "data": {
      "application/vnd.jupyter.widget-view+json": {
       "model_id": "a0781a7fb0144b6080f00ce0689d4b7e",
       "version_major": 2,
       "version_minor": 0
      },
      "text/plain": [
       "Figure(layout=FigureLayout(border='1px solid black', height='700px', margin='0 auto 0 auto', padding='1px', wi…"
      ]
     },
     "metadata": {},
     "output_type": "display_data"
    }
   ],
   "source": [
    "# define locations\n",
    "locations = weather_df[['lat','lon']].astype(float)\n",
    "humidity = weather_df['humidity'].astype(float)\n",
    "# configure gmaps\n",
    "gmaps.configure(api_key=g_key)\n",
    "figure_layout = {\n",
    "    'width': '1000px',\n",
    "    'height': '700px',\n",
    "    'border': '1px solid black',\n",
    "    'padding': '1px',\n",
    "    'margin': '0 auto 0 auto'\n",
    "}\n",
    "fig = gmaps.figure(layout=figure_layout)\n",
    "# add humidity layer\n",
    "humidity_heatlayer = gmaps.heatmap_layer(locations, weights=humidity, \n",
    "                                 dissipating=True, max_intensity=100,\n",
    "                                 point_radius = 10)\n",
    "fig.add_layer(humidity_heatlayer)\n",
    "fig"
   ]
  },
  {
   "cell_type": "code",
   "execution_count": null,
   "metadata": {},
   "outputs": [],
   "source": []
  },
  {
   "cell_type": "markdown",
   "metadata": {},
   "source": [
    "### Create new DataFrame fitting weather criteria\n",
    "* Narrow down the cities to fit weather conditions.\n",
    "* Drop any rows will null values."
   ]
  },
  {
   "cell_type": "code",
   "execution_count": 4,
   "metadata": {},
   "outputs": [
    {
     "data": {
      "text/html": [
       "<div>\n",
       "<style scoped>\n",
       "    .dataframe tbody tr th:only-of-type {\n",
       "        vertical-align: middle;\n",
       "    }\n",
       "\n",
       "    .dataframe tbody tr th {\n",
       "        vertical-align: top;\n",
       "    }\n",
       "\n",
       "    .dataframe thead th {\n",
       "        text-align: right;\n",
       "    }\n",
       "</style>\n",
       "<table border=\"1\" class=\"dataframe\">\n",
       "  <thead>\n",
       "    <tr style=\"text-align: right;\">\n",
       "      <th></th>\n",
       "      <th>name</th>\n",
       "      <th>country</th>\n",
       "      <th>clouds</th>\n",
       "      <th>humidity</th>\n",
       "      <th>temp</th>\n",
       "      <th>max_temp</th>\n",
       "      <th>wind_spd</th>\n",
       "      <th>lat</th>\n",
       "      <th>lon</th>\n",
       "    </tr>\n",
       "  </thead>\n",
       "  <tbody>\n",
       "    <tr>\n",
       "      <th>101</th>\n",
       "      <td>Jhinjhāna</td>\n",
       "      <td>IN</td>\n",
       "      <td>0</td>\n",
       "      <td>51</td>\n",
       "      <td>71.24</td>\n",
       "      <td>71.24</td>\n",
       "      <td>2.42</td>\n",
       "      <td>29.516670</td>\n",
       "      <td>77.216667</td>\n",
       "    </tr>\n",
       "    <tr>\n",
       "      <th>394</th>\n",
       "      <td>Rohri</td>\n",
       "      <td>PK</td>\n",
       "      <td>0</td>\n",
       "      <td>16</td>\n",
       "      <td>75.78</td>\n",
       "      <td>75.78</td>\n",
       "      <td>7.65</td>\n",
       "      <td>27.692230</td>\n",
       "      <td>68.895058</td>\n",
       "    </tr>\n",
       "    <tr>\n",
       "      <th>525</th>\n",
       "      <td>Hickeys Creek</td>\n",
       "      <td>AU</td>\n",
       "      <td>0</td>\n",
       "      <td>60</td>\n",
       "      <td>73.00</td>\n",
       "      <td>73.00</td>\n",
       "      <td>3.00</td>\n",
       "      <td>-30.900000</td>\n",
       "      <td>152.600006</td>\n",
       "    </tr>\n",
       "    <tr>\n",
       "      <th>556</th>\n",
       "      <td>Al Ḩayy</td>\n",
       "      <td>IQ</td>\n",
       "      <td>0</td>\n",
       "      <td>19</td>\n",
       "      <td>70.20</td>\n",
       "      <td>70.20</td>\n",
       "      <td>5.03</td>\n",
       "      <td>32.173489</td>\n",
       "      <td>46.043301</td>\n",
       "    </tr>\n",
       "  </tbody>\n",
       "</table>\n",
       "</div>"
      ],
      "text/plain": [
       "              name country  clouds  humidity   temp  max_temp  wind_spd  \\\n",
       "101      Jhinjhāna      IN       0        51  71.24     71.24      2.42   \n",
       "394          Rohri      PK       0        16  75.78     75.78      7.65   \n",
       "525  Hickeys Creek      AU       0        60  73.00     73.00      3.00   \n",
       "556        Al Ḩayy      IQ       0        19  70.20     70.20      5.03   \n",
       "\n",
       "           lat         lon  \n",
       "101  29.516670   77.216667  \n",
       "394  27.692230   68.895058  \n",
       "525 -30.900000  152.600006  \n",
       "556  32.173489   46.043301  "
      ]
     },
     "execution_count": 4,
     "metadata": {},
     "output_type": "execute_result"
    }
   ],
   "source": [
    "# Remove rows w/ null values\n",
    "not_null = weather_df[weather_df.notnull()]\n",
    "# Select for perfect weather\n",
    "perfect_weather = not_null[(not_null['max_temp']<80) & (not_null['max_temp']>70) & (not_null['wind_spd']<10) & (not_null['clouds']==0)]\n",
    "perfect_weather"
   ]
  },
  {
   "cell_type": "markdown",
   "metadata": {},
   "source": [
    "### Hotel Map\n",
    "* Store into variable named `hotel_df`.\n",
    "* Add a \"Hotel Name\" column to the DataFrame.\n",
    "* Set parameters to search for hotels with 5000 meters.\n",
    "* Hit the Google Places API for each city's coordinates.\n",
    "* Store the first Hotel result into the DataFrame.\n",
    "* Plot markers on top of the heatmap."
   ]
  },
  {
   "cell_type": "code",
   "execution_count": 5,
   "metadata": {},
   "outputs": [
    {
     "data": {
      "text/html": [
       "<div>\n",
       "<style scoped>\n",
       "    .dataframe tbody tr th:only-of-type {\n",
       "        vertical-align: middle;\n",
       "    }\n",
       "\n",
       "    .dataframe tbody tr th {\n",
       "        vertical-align: top;\n",
       "    }\n",
       "\n",
       "    .dataframe thead th {\n",
       "        text-align: right;\n",
       "    }\n",
       "</style>\n",
       "<table border=\"1\" class=\"dataframe\">\n",
       "  <thead>\n",
       "    <tr style=\"text-align: right;\">\n",
       "      <th></th>\n",
       "      <th>City</th>\n",
       "      <th>Country</th>\n",
       "      <th>City lat</th>\n",
       "      <th>City lon</th>\n",
       "    </tr>\n",
       "  </thead>\n",
       "  <tbody>\n",
       "    <tr>\n",
       "      <th>101</th>\n",
       "      <td>Jhinjhāna</td>\n",
       "      <td>IN</td>\n",
       "      <td>29.516670</td>\n",
       "      <td>77.216667</td>\n",
       "    </tr>\n",
       "    <tr>\n",
       "      <th>394</th>\n",
       "      <td>Rohri</td>\n",
       "      <td>PK</td>\n",
       "      <td>27.692230</td>\n",
       "      <td>68.895058</td>\n",
       "    </tr>\n",
       "    <tr>\n",
       "      <th>525</th>\n",
       "      <td>Hickeys Creek</td>\n",
       "      <td>AU</td>\n",
       "      <td>-30.900000</td>\n",
       "      <td>152.600006</td>\n",
       "    </tr>\n",
       "    <tr>\n",
       "      <th>556</th>\n",
       "      <td>Al Ḩayy</td>\n",
       "      <td>IQ</td>\n",
       "      <td>32.173489</td>\n",
       "      <td>46.043301</td>\n",
       "    </tr>\n",
       "  </tbody>\n",
       "</table>\n",
       "</div>"
      ],
      "text/plain": [
       "              City Country   City lat    City lon\n",
       "101      Jhinjhāna      IN  29.516670   77.216667\n",
       "394          Rohri      PK  27.692230   68.895058\n",
       "525  Hickeys Creek      AU -30.900000  152.600006\n",
       "556        Al Ḩayy      IQ  32.173489   46.043301"
      ]
     },
     "execution_count": 5,
     "metadata": {},
     "output_type": "execute_result"
    }
   ],
   "source": [
    "hotel_df = perfect_weather[['name','country','lat','lon']]\n",
    "hotel_df.columns = ['City','Country','City lat','City lon']\n",
    "hotel_df"
   ]
  },
  {
   "cell_type": "code",
   "execution_count": 6,
   "metadata": {},
   "outputs": [
    {
     "name": "stdout",
     "output_type": "stream",
     "text": [
      "trying Jhinjhāna\n",
      "Ajanta saiting\n",
      "trying Rohri\n",
      "AD Kukreja House\n",
      "trying Hickeys Creek\n",
      "No hotels found\n",
      "trying Al Ḩayy\n",
      "Neighborhood youth center\n"
     ]
    },
    {
     "name": "stderr",
     "output_type": "stream",
     "text": [
      "C:\\Users\\Ward33\\anaconda3\\envs\\PythonData2\\lib\\site-packages\\ipykernel_launcher.py:22: SettingWithCopyWarning: \n",
      "A value is trying to be set on a copy of a slice from a DataFrame.\n",
      "Try using .loc[row_indexer,col_indexer] = value instead\n",
      "\n",
      "See the caveats in the documentation: https://pandas.pydata.org/pandas-docs/stable/user_guide/indexing.html#returning-a-view-versus-a-copy\n"
     ]
    },
    {
     "data": {
      "text/html": [
       "<div>\n",
       "<style scoped>\n",
       "    .dataframe tbody tr th:only-of-type {\n",
       "        vertical-align: middle;\n",
       "    }\n",
       "\n",
       "    .dataframe tbody tr th {\n",
       "        vertical-align: top;\n",
       "    }\n",
       "\n",
       "    .dataframe thead th {\n",
       "        text-align: right;\n",
       "    }\n",
       "</style>\n",
       "<table border=\"1\" class=\"dataframe\">\n",
       "  <thead>\n",
       "    <tr style=\"text-align: right;\">\n",
       "      <th></th>\n",
       "      <th>City</th>\n",
       "      <th>Country</th>\n",
       "      <th>City lat</th>\n",
       "      <th>City lon</th>\n",
       "      <th>Hotel Name</th>\n",
       "    </tr>\n",
       "  </thead>\n",
       "  <tbody>\n",
       "    <tr>\n",
       "      <th>101</th>\n",
       "      <td>Jhinjhāna</td>\n",
       "      <td>IN</td>\n",
       "      <td>29.516670</td>\n",
       "      <td>77.216667</td>\n",
       "      <td>Ajanta saiting</td>\n",
       "    </tr>\n",
       "    <tr>\n",
       "      <th>394</th>\n",
       "      <td>Rohri</td>\n",
       "      <td>PK</td>\n",
       "      <td>27.692230</td>\n",
       "      <td>68.895058</td>\n",
       "      <td>AD Kukreja House</td>\n",
       "    </tr>\n",
       "    <tr>\n",
       "      <th>525</th>\n",
       "      <td>Hickeys Creek</td>\n",
       "      <td>AU</td>\n",
       "      <td>-30.900000</td>\n",
       "      <td>152.600006</td>\n",
       "      <td></td>\n",
       "    </tr>\n",
       "    <tr>\n",
       "      <th>556</th>\n",
       "      <td>Al Ḩayy</td>\n",
       "      <td>IQ</td>\n",
       "      <td>32.173489</td>\n",
       "      <td>46.043301</td>\n",
       "      <td>Neighborhood youth center</td>\n",
       "    </tr>\n",
       "  </tbody>\n",
       "</table>\n",
       "</div>"
      ],
      "text/plain": [
       "              City Country   City lat    City lon                 Hotel Name\n",
       "101      Jhinjhāna      IN  29.516670   77.216667             Ajanta saiting\n",
       "394          Rohri      PK  27.692230   68.895058           AD Kukreja House\n",
       "525  Hickeys Creek      AU -30.900000  152.600006                           \n",
       "556        Al Ḩayy      IQ  32.173489   46.043301  Neighborhood youth center"
      ]
     },
     "execution_count": 6,
     "metadata": {},
     "output_type": "execute_result"
    }
   ],
   "source": [
    "# Check each city for hotels\n",
    "hotel_url = \"https://maps.googleapis.com/maps/api/place/nearbysearch/json\"\n",
    "params = {\n",
    "    \"location\": \"-34.551262,-58.537682\",\n",
    "    \"rankby\": \"distance\",\n",
    "    \"type\": \"lodging\",\n",
    "    \"key\": g_key,\n",
    "}\n",
    "hotel_name = []\n",
    "\n",
    "for index,row in hotel_df.iterrows():\n",
    "    params['location'] = {str(row['City lat']) + ',' + str(row['City lon'])}    \n",
    "    try:\n",
    "        print(f\"trying {row['City']}\")\n",
    "        response = requests.get(hotel_url, params=params).json()\n",
    "        results = response['results']\n",
    "        print(f\"{results[0]['name']}\")\n",
    "        hotel_name.append(results[0]['name'])\n",
    "    except:\n",
    "        print('No hotels found')\n",
    "        hotel_name.append('')\n",
    "hotel_df['Hotel Name'] = hotel_name\n",
    "hotel_df"
   ]
  },
  {
   "cell_type": "code",
   "execution_count": 7,
   "metadata": {},
   "outputs": [
    {
     "name": "stderr",
     "output_type": "stream",
     "text": [
      "C:\\Users\\Ward33\\anaconda3\\envs\\PythonData2\\lib\\site-packages\\pandas\\core\\frame.py:4133: SettingWithCopyWarning: \n",
      "A value is trying to be set on a copy of a slice from a DataFrame\n",
      "\n",
      "See the caveats in the documentation: https://pandas.pydata.org/pandas-docs/stable/user_guide/indexing.html#returning-a-view-versus-a-copy\n",
      "  errors=errors,\n"
     ]
    },
    {
     "data": {
      "text/html": [
       "<div>\n",
       "<style scoped>\n",
       "    .dataframe tbody tr th:only-of-type {\n",
       "        vertical-align: middle;\n",
       "    }\n",
       "\n",
       "    .dataframe tbody tr th {\n",
       "        vertical-align: top;\n",
       "    }\n",
       "\n",
       "    .dataframe thead th {\n",
       "        text-align: right;\n",
       "    }\n",
       "</style>\n",
       "<table border=\"1\" class=\"dataframe\">\n",
       "  <thead>\n",
       "    <tr style=\"text-align: right;\">\n",
       "      <th></th>\n",
       "      <th>City</th>\n",
       "      <th>Country</th>\n",
       "      <th>Lat</th>\n",
       "      <th>Lng</th>\n",
       "      <th>Hotel Name</th>\n",
       "    </tr>\n",
       "  </thead>\n",
       "  <tbody>\n",
       "    <tr>\n",
       "      <th>101</th>\n",
       "      <td>Jhinjhāna</td>\n",
       "      <td>IN</td>\n",
       "      <td>29.516670</td>\n",
       "      <td>77.216667</td>\n",
       "      <td>Ajanta saiting</td>\n",
       "    </tr>\n",
       "    <tr>\n",
       "      <th>394</th>\n",
       "      <td>Rohri</td>\n",
       "      <td>PK</td>\n",
       "      <td>27.692230</td>\n",
       "      <td>68.895058</td>\n",
       "      <td>AD Kukreja House</td>\n",
       "    </tr>\n",
       "    <tr>\n",
       "      <th>525</th>\n",
       "      <td>Hickeys Creek</td>\n",
       "      <td>AU</td>\n",
       "      <td>-30.900000</td>\n",
       "      <td>152.600006</td>\n",
       "      <td></td>\n",
       "    </tr>\n",
       "    <tr>\n",
       "      <th>556</th>\n",
       "      <td>Al Ḩayy</td>\n",
       "      <td>IQ</td>\n",
       "      <td>32.173489</td>\n",
       "      <td>46.043301</td>\n",
       "      <td>Neighborhood youth center</td>\n",
       "    </tr>\n",
       "  </tbody>\n",
       "</table>\n",
       "</div>"
      ],
      "text/plain": [
       "              City Country        Lat         Lng                 Hotel Name\n",
       "101      Jhinjhāna      IN  29.516670   77.216667             Ajanta saiting\n",
       "394          Rohri      PK  27.692230   68.895058           AD Kukreja House\n",
       "525  Hickeys Creek      AU -30.900000  152.600006                           \n",
       "556        Al Ḩayy      IQ  32.173489   46.043301  Neighborhood youth center"
      ]
     },
     "execution_count": 7,
     "metadata": {},
     "output_type": "execute_result"
    }
   ],
   "source": [
    "# align column names with provided code below\n",
    "hotel_df.rename(columns = {'City lat':'Lat','City lon':'Lng'}, inplace=True)\n",
    "hotel_df"
   ]
  },
  {
   "cell_type": "code",
   "execution_count": 35,
   "metadata": {},
   "outputs": [],
   "source": [
    "# NOTE: Do not change any of the code in this cell\n",
    "\n",
    "# Using the template add the hotel marks to the heatmap\n",
    "info_box_template = \"\"\"\n",
    "<dl>\n",
    "<dt>Name</dt><dd>{Hotel Name}</dd>\n",
    "<dt>City</dt><dd>{City}</dd>\n",
    "<dt>Country</dt><dd>{Country}</dd>\n",
    "</dl>\n",
    "\"\"\"\n",
    "# Store the DataFrame Row\n",
    "# NOTE: be sure to update with your DataFrame name\n",
    "hotel_info = [info_box_template.format(**row) for index, row in hotel_df.iterrows()]\n",
    "locations = hotel_df[[\"Lat\", \"Lng\"]]"
   ]
  },
  {
   "cell_type": "code",
   "execution_count": 36,
   "metadata": {},
   "outputs": [
    {
     "data": {
      "application/vnd.jupyter.widget-view+json": {
       "model_id": "a0781a7fb0144b6080f00ce0689d4b7e",
       "version_major": 2,
       "version_minor": 0
      },
      "text/plain": [
       "Figure(layout=FigureLayout(border='1px solid black', height='700px', margin='0 auto 0 auto', padding='1px', wi…"
      ]
     },
     "metadata": {},
     "output_type": "display_data"
    }
   ],
   "source": [
    "# Add marker layer ontop of heat map\n",
    "\n",
    "markers = gmaps.marker_layer(locations, info_box_content=hotel_info)\n",
    "fig.add_layer(markers)\n",
    "\n",
    "\n",
    "# Display figure\n",
    "fig"
   ]
  },
  {
   "cell_type": "code",
   "execution_count": null,
   "metadata": {},
   "outputs": [],
   "source": []
  }
 ],
 "metadata": {
  "kernelspec": {
   "display_name": "Python 3",
   "language": "python",
   "name": "python3"
  },
  "language_info": {
   "codemirror_mode": {
    "name": "ipython",
    "version": 3
   },
   "file_extension": ".py",
   "mimetype": "text/x-python",
   "name": "python",
   "nbconvert_exporter": "python",
   "pygments_lexer": "ipython3",
   "version": "3.6.10"
  },
  "latex_envs": {
   "LaTeX_envs_menu_present": true,
   "autoclose": false,
   "autocomplete": true,
   "bibliofile": "biblio.bib",
   "cite_by": "apalike",
   "current_citInitial": 1,
   "eqLabelWithNumbers": true,
   "eqNumInitial": 1,
   "hotkeys": {
    "equation": "Ctrl-E",
    "itemize": "Ctrl-I"
   },
   "labels_anchors": false,
   "latex_user_defs": false,
   "report_style_numbering": false,
   "user_envs_cfg": false
  }
 },
 "nbformat": 4,
 "nbformat_minor": 4
}
