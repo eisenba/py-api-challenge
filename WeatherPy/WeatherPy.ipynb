{
 "cells": [
  {
   "cell_type": "markdown",
   "metadata": {},
   "source": [
    "# WeatherPy\n",
    "----\n",
    "\n",
    "#### Note\n",
    "* Instructions have been included for each segment. You do not have to follow them exactly, but they are included to help you think through the steps."
   ]
  },
  {
   "cell_type": "code",
   "execution_count": 59,
   "metadata": {
    "scrolled": true
   },
   "outputs": [
    {
     "ename": "ImportError",
     "evalue": "cannot import name 'st' from 'scipy.stats' (C:\\Users\\Ward33\\anaconda3\\lib\\site-packages\\scipy\\stats\\__init__.py)",
     "output_type": "error",
     "traceback": [
      "\u001b[1;31m---------------------------------------------------------------------------\u001b[0m",
      "\u001b[1;31mImportError\u001b[0m                               Traceback (most recent call last)",
      "\u001b[1;32m<ipython-input-59-de8202e0e947>\u001b[0m in \u001b[0;36m<module>\u001b[1;34m\u001b[0m\n\u001b[0;32m      1\u001b[0m \u001b[1;32mimport\u001b[0m \u001b[0mmatplotlib\u001b[0m\u001b[1;33m.\u001b[0m\u001b[0mpyplot\u001b[0m \u001b[1;32mas\u001b[0m \u001b[0mplt\u001b[0m\u001b[1;33m\u001b[0m\u001b[1;33m\u001b[0m\u001b[0m\n\u001b[0;32m      2\u001b[0m \u001b[1;32mimport\u001b[0m \u001b[0mrequests\u001b[0m\u001b[1;33m\u001b[0m\u001b[1;33m\u001b[0m\u001b[0m\n\u001b[1;32m----> 3\u001b[1;33m \u001b[1;32mfrom\u001b[0m \u001b[0mscipy\u001b[0m\u001b[1;33m.\u001b[0m\u001b[0mstats\u001b[0m \u001b[1;32mimport\u001b[0m \u001b[0mst\u001b[0m\u001b[1;33m\u001b[0m\u001b[1;33m\u001b[0m\u001b[0m\n\u001b[0m\u001b[0;32m      4\u001b[0m \u001b[1;32mimport\u001b[0m \u001b[0mpandas\u001b[0m \u001b[1;32mas\u001b[0m \u001b[0mpd\u001b[0m\u001b[1;33m\u001b[0m\u001b[1;33m\u001b[0m\u001b[0m\n\u001b[0;32m      5\u001b[0m \u001b[1;32mfrom\u001b[0m \u001b[0mconfig\u001b[0m \u001b[1;32mimport\u001b[0m \u001b[0mweather_api_key\u001b[0m\u001b[1;33m\u001b[0m\u001b[1;33m\u001b[0m\u001b[0m\n",
      "\u001b[1;31mImportError\u001b[0m: cannot import name 'st' from 'scipy.stats' (C:\\Users\\Ward33\\anaconda3\\lib\\site-packages\\scipy\\stats\\__init__.py)"
     ]
    }
   ],
   "source": [
    "import matplotlib.pyplot as plt\n",
    "import requests\n",
    "from scipy import stats\n",
    "import pandas as pd\n",
    "from config import weather_api_key\n",
    "import random\n",
    "import json"
   ]
  },
  {
   "cell_type": "markdown",
   "metadata": {},
   "source": [
    "## Generate Cities List"
   ]
  },
  {
   "cell_type": "code",
   "execution_count": 51,
   "metadata": {},
   "outputs": [
    {
     "data": {
      "text/html": [
       "<div>\n",
       "<style scoped>\n",
       "    .dataframe tbody tr th:only-of-type {\n",
       "        vertical-align: middle;\n",
       "    }\n",
       "\n",
       "    .dataframe tbody tr th {\n",
       "        vertical-align: top;\n",
       "    }\n",
       "\n",
       "    .dataframe thead th {\n",
       "        text-align: right;\n",
       "    }\n",
       "</style>\n",
       "<table border=\"1\" class=\"dataframe\">\n",
       "  <thead>\n",
       "    <tr style=\"text-align: right;\">\n",
       "      <th></th>\n",
       "      <th>id</th>\n",
       "      <th>name</th>\n",
       "      <th>state</th>\n",
       "      <th>country</th>\n",
       "      <th>coord</th>\n",
       "    </tr>\n",
       "  </thead>\n",
       "  <tbody>\n",
       "    <tr>\n",
       "      <th>109817</th>\n",
       "      <td>3069785</td>\n",
       "      <td>Neveklov</td>\n",
       "      <td></td>\n",
       "      <td>CZ</td>\n",
       "      <td>{'lon': 14.53291, 'lat': 49.753731}</td>\n",
       "    </tr>\n",
       "    <tr>\n",
       "      <th>175830</th>\n",
       "      <td>6439201</td>\n",
       "      <td>Parfondeval</td>\n",
       "      <td></td>\n",
       "      <td>FR</td>\n",
       "      <td>{'lon': 0.5, 'lat': 48.48333}</td>\n",
       "    </tr>\n",
       "    <tr>\n",
       "      <th>49313</th>\n",
       "      <td>2108502</td>\n",
       "      <td>Honiara</td>\n",
       "      <td></td>\n",
       "      <td>SB</td>\n",
       "      <td>{'lon': 159.949997, 'lat': -9.43333}</td>\n",
       "    </tr>\n",
       "    <tr>\n",
       "      <th>27858</th>\n",
       "      <td>1266931</td>\n",
       "      <td>Khargāpur</td>\n",
       "      <td></td>\n",
       "      <td>IN</td>\n",
       "      <td>{'lon': 79.143997, 'lat': 24.823}</td>\n",
       "    </tr>\n",
       "    <tr>\n",
       "      <th>40907</th>\n",
       "      <td>1795691</td>\n",
       "      <td>Shengang</td>\n",
       "      <td></td>\n",
       "      <td>CN</td>\n",
       "      <td>{'lon': 120.138412, 'lat': 31.88661}</td>\n",
       "    </tr>\n",
       "  </tbody>\n",
       "</table>\n",
       "</div>"
      ],
      "text/plain": [
       "             id         name state country  \\\n",
       "109817  3069785     Neveklov            CZ   \n",
       "175830  6439201  Parfondeval            FR   \n",
       "49313   2108502      Honiara            SB   \n",
       "27858   1266931    Khargāpur            IN   \n",
       "40907   1795691     Shengang            CN   \n",
       "\n",
       "                                       coord  \n",
       "109817   {'lon': 14.53291, 'lat': 49.753731}  \n",
       "175830         {'lon': 0.5, 'lat': 48.48333}  \n",
       "49313   {'lon': 159.949997, 'lat': -9.43333}  \n",
       "27858      {'lon': 79.143997, 'lat': 24.823}  \n",
       "40907   {'lon': 120.138412, 'lat': 31.88661}  "
      ]
     },
     "execution_count": 51,
     "metadata": {},
     "output_type": "execute_result"
    }
   ],
   "source": [
    "# Read json of cities and city IDs\n",
    "citylist = pd.read_json('F:\\Matt\\GitHome\\py-api-challenge\\citylist.json')\n",
    "# Select sample of cities\n",
    "cityselect = pd.DataFrame(citylist.sample(600))\n",
    "cityselect.head()"
   ]
  },
  {
   "cell_type": "code",
   "execution_count": null,
   "metadata": {},
   "outputs": [],
   "source": []
  },
  {
   "cell_type": "markdown",
   "metadata": {},
   "source": [
    "### Perform API Calls\n",
    "* Perform a weather check on each city using a series of successive API calls.\n",
    "* Include a print log of each city as it'sbeing processed (with the city number and city name).\n"
   ]
  },
  {
   "cell_type": "code",
   "execution_count": 3,
   "metadata": {
    "scrolled": true
   },
   "outputs": [
    {
     "name": "stdout",
     "output_type": "stream",
     "text": [
      "Trying Crestuma with ID 2740282\n",
      "Trying Sparta with ID 4409615\n",
      "Trying Wormsleben with ID 2806136\n",
      "Trying Lymanske with ID 703061\n",
      "Trying Gavril Genovo with ID 6459238\n",
      "Trying Shmatovo with ID 493930\n",
      "Trying North Haledon with ID 5101922\n",
      "Trying Zöllnitz with ID 6550426\n",
      "Trying Rŭshon with ID 1220685\n",
      "Trying Hamilton with ID 5119842\n",
      "Trying Wiślica with ID 755593\n",
      "Trying Sebastopol with ID 5394165\n",
      "Trying Homer with ID 5121169\n",
      "Trying Järvsö with ID 2703145\n",
      "Trying Komuna e Gjilanit with ID 790673\n",
      "Trying Tanjungan with ID 8074553\n",
      "Trying Volodarskoye with ID 1517410\n",
      "Trying Serranillos del Valle with ID 3109077\n",
      "Trying Camphin-en-Pévèle with ID 3028946\n",
      "Trying Hubbard Lake with ID 4996690\n",
      "Trying Moita with ID 2266319\n",
      "Trying Holzkirchen with ID 2899676\n",
      "Trying Idanha with ID 2267428\n",
      "Trying Obergailbach with ID 6437762\n",
      "Trying Liu’ao with ID 7070567\n",
      "Trying Patuto with ID 1694290\n",
      "Trying Jabłonna with ID 770706\n",
      "Trying Zimmern unter der Burg with ID 2804157\n",
      "Trying Elsterwerda with ID 2930680\n",
      "Trying Libuganon with ID 1706557\n",
      "Trying Waldrohrbach with ID 6555228\n",
      "Trying Keonjhargarh with ID 1267267\n",
      "Trying Maulette with ID 6444016\n",
      "Trying Murray with ID 5778755\n",
      "Trying Bobadilla del Campo with ID 3127945\n",
      "Trying Rožmberk nad Vltavou with ID 3066663\n",
      "Trying Lago da Pedra with ID 3396601\n",
      "Trying Hurstbourne Acres with ID 4295686\n",
      "Trying Donard with ID 2964755\n",
      "Trying Cornish with ID 4961511\n",
      "Trying Ebsdorfergrund with ID 7576935\n",
      "Trying Shuidatian with ID 1794412\n",
      "Trying Belberaud with ID 3033813\n",
      "Trying Carballedo with ID 6359171\n",
      "Trying Angola with ID 4917614\n",
      "Trying Périgneux with ID 6434222\n",
      "Trying Pasvalys with ID 595997\n",
      "Trying Pomoriany with ID 696582\n",
      "Trying Steineberg with ID 6554666\n",
      "Trying Trayning with ID 2059928\n",
      "Trying Artegna with ID 3182782\n",
      "Trying Funtiki with ID 1506757\n",
      "Trying Karbach with ID 2892986\n",
      "Trying Stallwang with ID 6556598\n",
      "Trying Schwanenkirchen with ID 2835269\n",
      "Trying Rollingstone with ID 2151197\n",
      "Trying Gron with ID 3014574\n",
      "Trying Rangendingen with ID 6555955\n",
      "Trying Dundagas Novads with ID 7628298\n",
      "Trying Landéhen with ID 3007883\n",
      "Trying Midhurst with ID 6073349\n",
      "Trying Serpur with ID 1348947\n",
      "Trying Lymington with ID 2643312\n",
      "Trying Hódmezővásárhely with ID 719965\n",
      "Trying Villaturde with ID 3104774\n",
      "Trying Mayrhofen with ID 7873708\n",
      "Trying Tullyvin with ID 3309781\n",
      "Trying Oxford with ID 4440076\n",
      "Trying Nerang with ID 2155542\n",
      "Trying Ostuncalco with ID 3591997\n",
      "Trying Epworth with ID 2649955\n",
      "Trying Scrignac with ID 6431062\n",
      "Trying Alagoa Grande with ID 3408100\n",
      "Trying Bengel with ID 6554295\n",
      "Trying Le Bosc-Renoult with ID 3005183\n",
      "Trying Nienstädt with ID 2862540\n",
      "Trying Raymond with ID 5091636\n",
      "Trying Shetpe with ID 608324\n",
      "Trying Güemes with ID 3854454\n",
      "Trying Dargen with ID 2938931\n",
      "Trying Cileungsing with ID 7920677\n",
      "Trying Auburndale with ID 4146389\n",
      "Trying Rosmalen with ID 2747910\n",
      "Trying Rio with ID 5268977\n",
      "Trying Chanac with ID 3026987\n",
      "Trying Río de Jesús with ID 3701882\n",
      "Trying Vedasandūr with ID 1253328\n",
      "Trying Štětí with ID 3065163\n",
      "Trying Sugisaki with ID 2110964\n",
      "Trying Ono San Pietro with ID 6535788\n",
      "Trying Salve with ID 2523539\n",
      "Trying Worben with ID 2657953\n",
      "Trying Schwepnitz with ID 2834296\n",
      "Trying Woodbourne with ID 5219994\n",
      "Trying Buston with ID 1538311\n",
      "Trying Gordaliza del Pino with ID 3121295\n",
      "Trying Salvan with ID 2658847\n",
      "Trying Werbkowice with ID 756028\n",
      "Trying Brampton with ID 2654915\n",
      "Trying Horleşti with ID 675999\n",
      "Trying Longkou with ID 1802556\n",
      "Trying Neidenstein with ID 2866606\n",
      "Trying Breitnau with ID 2944455\n",
      "Trying Sumdo with ID 1793857\n",
      "Trying Charbonnières-les-Varennes with ID 3026698\n",
      "Trying Weißlenreuth with ID 2811709\n",
      "Trying Bonjol with ID 1648197\n",
      "Trying Bőny with ID 3054811\n",
      "Trying Tak Bai with ID 1605957\n",
      "Trying Solbjerg with ID 2613254\n",
      "Trying Mawza with ID 72760\n",
      "Trying Beaconsfield with ID 2176541\n",
      "Trying Obertschappina with ID 6691871\n",
      "Trying Sainte-Livrade-sur-Lot with ID 6435062\n",
      "Trying Avellaneda with ID 3436230\n",
      "Trying Saalfeld with ID 2842686\n",
      "Trying Signal Hill with ID 5395754\n",
      "Trying Las Rozas de Madrid with ID 3118848\n",
      "Trying Bhongīr with ID 1275848\n",
      "Trying Sitiawan with ID 1735453\n",
      "Trying Borrisoleigh with ID 2966054\n",
      "Trying Llano Bonito with ID 3705779\n",
      "Trying Magsaysay with ID 1703768\n",
      "Trying Kazanlak with ID 730496\n",
      "Trying Großenstein with ID 2916581\n",
      "Trying Américo Brasiliense with ID 3472338\n",
      "Trying Pignataro Maggiore with ID 3170718\n",
      "Trying Ironton with ID 4392057\n",
      "Trying Changtang with ID 1815519\n",
      "Trying Savkino with ID 498179\n",
      "Trying Redkino with ID 502265\n",
      "Trying Qianxu Zhen with ID 7525001\n",
      "Trying Bruck an der Großglocknerstraße with ID 7873326\n",
      "Trying Dąbrówno with ID 773478\n",
      "Trying Gleneely with ID 2964051\n",
      "Trying Collalbo with ID 3178447\n",
      "Trying General Mamerto Natividad with ID 1713027\n",
      "Trying Pope County with ID 4127100\n",
      "Trying Longton with ID 2643620\n",
      "Trying Vindeln with ID 2662851\n",
      "Trying Vöhrenbach with ID 6558129\n",
      "Trying Newport News with ID 4776024\n",
      "Trying Stanisławice with ID 758435\n",
      "Trying Hinatuan with ID 1711655\n",
      "Trying Sanford with ID 4172086\n",
      "Trying Hensies with ID 2796056\n",
      "Trying Yonghe with ID 7630151\n",
      "Trying Clinton with ID 5924039\n",
      "Trying Pirna with ID 2853572\n",
      "Trying Murgenthal with ID 2659533\n",
      "Trying Kazımkarabekir with ID 308400\n",
      "Trying Augustdorf with ID 2954164\n",
      "Trying Phatthana Nikhom with ID 1595484\n",
      "Trying Neuvy-sur-Barangeon with ID 2990480\n",
      "Trying Voigtsdorf with ID 2816744\n",
      "Trying Blackshear with ID 4183305\n",
      "Trying Rep’yëvka with ID 502103\n",
      "Trying Gien with ID 6454157\n",
      "Trying Bad Häring with ID 7873645\n",
      "Trying Suzak with ID 1527317\n",
      "Trying Hohwacht with ID 2900816\n",
      "Trying Saint Osyth with ID 2638708\n",
      "Trying Chepén with ID 3698390\n",
      "Trying Lewiston with ID 4999167\n",
      "Trying Ma’an with ID 1801617\n",
      "Trying Kurikka with ID 650098\n",
      "Trying Rots with ID 6427403\n",
      "Trying Holenberg with ID 6552511\n",
      "Trying Souppes-sur-Loing with ID 2973963\n",
      "Trying Plounéventer with ID 6431012\n",
      "Trying Urochishche Kislsikoye with ID 705758\n",
      "Trying Landrum with ID 4584590\n",
      "Trying Liernolles with ID 2998467\n",
      "Trying Cranbourne with ID 2170078\n",
      "Trying Sévaré with ID 2451285\n",
      "Trying Mangistauskaya Oblast’ with ID 608879\n",
      "Trying Bormida with ID 6534435\n",
      "Trying Sipu with ID 1794177\n",
      "Trying Ngadipurwo with ID 8071051\n",
      "Trying Oud-Heverlee with ID 2789492\n",
      "Trying Dashtobod with ID 1512480\n",
      "Trying Coalbrookdale with ID 2652708\n",
      "Trying Brain-sur-Allonnes with ID 3030600\n",
      "Trying Hāgere Selam with ID 335286\n",
      "Trying Varna with ID 726051\n",
      "Trying Kehmstedt with ID 6549843\n",
      "Trying Siruma with ID 1686039\n",
      "Trying Shimen with ID 1795142\n",
      "Trying Hellwege with ID 2906759\n",
      "Trying Województwo Podkarpackie with ID 858788\n",
      "Trying San Millán de Yécora with ID 3110233\n",
      "Trying Candelaria with ID 4563122\n",
      "Trying Milton with ID 5127098\n",
      "Trying Lakhnā with ID 1265234\n",
      "Trying Western Mobile Home Park South with ID 8123060\n",
      "Trying Sypniewo with ID 3083908\n",
      "Trying Karlsfeld with ID 2892874\n",
      "Trying Süttő with ID 3045045\n",
      "Trying Zvolen with ID 3056459\n",
      "Trying West Hawk Lake with ID 6178977\n",
      "Trying Strasburg with ID 5440516\n",
      "Trying Imereti with ID 865539\n",
      "Trying Masahuat with ID 3584424\n",
      "Trying Madison with ID 4477732\n",
      "Trying Grauen with ID 2917934\n",
      "Trying Balibago with ID 1728203\n",
      "Trying Pischelsdorf with ID 2853564\n",
      "Trying Annville with ID 5178351\n",
      "Trying Sarzana with ID 6539672\n",
      "Trying Theuma with ID 6548544\n",
      "Trying Iraquara with ID 3461023\n",
      "Trying Osmeña with ID 1696983\n",
      "Trying Yungay with ID 3690673\n",
      "Trying Villafranca Padovana with ID 6535021\n",
      "Trying Viesville with ID 2784742\n",
      "Trying Hochstraß with ID 2902942\n",
      "Trying Cleburne County with ID 4106009\n",
      "Trying Bourne with ID 2655099\n",
      "Trying Jingchuan with ID 1805568\n",
      "Trying Landkreis Grafschaft Bentheim with ID 3221075\n",
      "Trying Calingcuan with ID 1720283\n",
      "Trying Kamári with ID 261259\n",
      "Trying Vallelado with ID 6360937\n",
      "Trying Kumendung Satu with ID 7334584\n",
      "Trying Tierra Nueva with ID 3981652\n",
      "Trying Frenchtown with ID 5098303\n",
      "Trying Taldom with ID 484826\n",
      "Trying Racaka with ID 1280174\n",
      "Trying Vasilyevichy with ID 620425\n",
      "Trying Bagno a Ripoli with ID 6536819\n",
      "Trying Mutiloa with ID 3115798\n",
      "Trying Streatham with ID 2148066\n",
      "Trying Datong with ID 1921621\n",
      "Trying Wrexham with ID 2633485\n",
      "Trying Kurort Baunt with ID 2021208\n",
      "Trying Tavaux with ID 2973267\n",
      "Trying Bosteri with ID 1528646\n",
      "Trying Assamakka with ID 2596709\n",
      "Trying Barkham with ID 7292769\n",
      "Trying Fatschenbrunn with ID 2927735\n",
      "Trying Kaanapali Landing with ID 5856852\n",
      "Trying San Francisco Abajo with ID 3493152\n",
      "Trying Skotnica with ID 3085737\n"
     ]
    },
    {
     "name": "stdout",
     "output_type": "stream",
     "text": [
      "Trying Anamur with ID 323828\n",
      "Trying Călineşti with ID 682953\n",
      "Trying Waltensburg/Vuorz with ID 7287534\n",
      "Trying Cuffy with ID 3022154\n",
      "Trying Bihu with ID 6982907\n",
      "Trying Daultala with ID 1180379\n",
      "Trying North Bend with ID 5804915\n",
      "Trying Saint-Ouen-de-Thouberville with ID 2977808\n",
      "Trying Hilmar-Irwin with ID 7261441\n",
      "Trying Luis M. Cintron with ID 4566098\n",
      "Trying Volterra with ID 3163962\n",
      "Trying Castelfranco Emilia with ID 6541633\n",
      "Trying Valley City with ID 5062292\n",
      "Trying Berghem with ID 7670962\n",
      "Trying Kanwar with ID 1265567\n",
      "Trying Yangmei with ID 1787409\n",
      "Trying Jammalamadugu with ID 1269323\n",
      "Trying Okrika with ID 2326899\n",
      "Trying Kegelheim with ID 2891964\n",
      "Trying Hodh El Gharbi with ID 2379024\n",
      "Trying Freeburgh with ID 2166109\n",
      "Trying Biard with ID 6455306\n",
      "Trying Brädikow with ID 2945576\n",
      "Trying McCamey with ID 5525938\n",
      "Trying Gumpertshausen with ID 2913731\n",
      "Trying Berrydale with ID 4147390\n",
      "Trying Casalnoceto with ID 3180173\n",
      "Trying Rentung with ID 7570522\n",
      "Trying Arbis with ID 3037295\n",
      "Trying Alindao with ID 240999\n",
      "Trying Caijiapu with ID 1816150\n",
      "Trying Himmelpforten with ID 2904544\n",
      "Trying Ochsenfeld with ID 2858334\n",
      "Trying Espumoso with ID 3463916\n",
      "Trying Södermanlands län with ID 2676207\n",
      "Trying Simmie with ID 6148002\n",
      "Trying Valangaiman with ID 1253504\n",
      "Trying Arusha Region with ID 161322\n",
      "Trying Fevral’sk with ID 2024261\n",
      "Trying Bran with ID 683890\n",
      "Trying Shuanglin with ID 1794658\n",
      "Trying Spanish Springs with ID 5512827\n",
      "Trying Holzbunge with ID 2899970\n",
      "Trying Faoug with ID 7285796\n",
      "Trying Pszczyna with ID 7533068\n",
      "Trying Bad Gandersheim with ID 2953456\n",
      "Trying Kolbudy with ID 3095833\n",
      "Trying Pardés H̱anna Karkur with ID 293943\n",
      "Trying Malyn with ID 702116\n",
      "Trying Sinsang-ni with ID 1932058\n",
      "Trying el Masroig with ID 6361325\n",
      "Trying Tlatlauquitepec with ID 3515363\n",
      "Trying Olot with ID 3115093\n",
      "Trying Montmeyran with ID 2992249\n",
      "Trying Nuşeni with ID 672125\n",
      "Trying Ramil with ID 3112316\n",
      "Trying Casalmorano with ID 3180175\n",
      "Trying Euabalong West with ID 2167173\n",
      "Trying Schmiddorf with ID 2837887\n",
      "Trying Kürten with ID 2882318\n",
      "Trying Stinatz with ID 7871553\n",
      "Trying Ternate with ID 1624041\n",
      "Trying Ansalta with ID 581568\n",
      "Trying Sahiwal with ID 1166548\n",
      "Trying Calcio with ID 3181220\n",
      "Trying Henglu with ID 1808443\n",
      "Trying Żory with ID 7530953\n",
      "Trying Landkreis Uelzen with ID 3221049\n",
      "Trying Tutubigan with ID 1680566\n",
      "Trying Smithville with ID 5172321\n",
      "Trying Strasburg with ID 5173189\n",
      "Trying Jayune with ID 3951767\n",
      "Trying Hohentengen with ID 6556083\n",
      "Trying Gemeente Overbetuwe with ID 6544276\n",
      "Trying Haykashen with ID 866090\n",
      "Trying Wölferbütt with ID 2806898\n",
      "Trying Quesnoy-sur-Deûle with ID 2984787\n",
      "Trying Vel’t with ID 475936\n",
      "Trying Cibalieur with ID 7913970\n",
      "Trying Hârtieşti with ID 676155\n",
      "Trying Follonica with ID 6541106\n",
      "Trying New London with ID 4868768\n",
      "Trying Villa Pacajes with ID 6254880\n",
      "Trying Stubbendorf with ID 2825550\n",
      "Trying Ahmsen with ID 2959164\n",
      "Trying Imandra with ID 556885\n",
      "Trying Mekarjaya with ID 8045444\n",
      "Trying Spangler with ID 5397976\n",
      "Trying Saint-Germain-les-Belles with ID 2979754\n",
      "Trying Ganda with ID 3176331\n",
      "Trying Mirnyy with ID 831129\n",
      "Trying Izvoarele with ID 675389\n",
      "Trying Roseau with ID 5043752\n",
      "Trying Pěnčín with ID 3068437\n",
      "Trying Pratápolis with ID 3452380\n",
      "Trying Western Township with ID 940359\n",
      "Trying Bāsoda with ID 1276752\n",
      "Trying Malá Skála with ID 3071223\n",
      "Trying Provincia de Cuenca with ID 2519034\n",
      "Trying Yeraliyev with ID 609919\n",
      "Trying Krajan with ID 7083057\n",
      "Trying Lumbier with ID 3117804\n",
      "Trying Waldkirch with ID 2658067\n",
      "Trying Gómez Farías with ID 4005780\n",
      "Trying Saint-Germain-du-Plain with ID 2979792\n",
      "Trying Pirmez Creek with ID 6105610\n",
      "Trying Stăncuţa with ID 666309\n",
      "Trying Bischofsheim an der Rhön with ID 2948287\n",
      "Trying Moncla with ID 2993388\n",
      "Trying Jelah with ID 3210439\n",
      "Trying Unidad with ID 1680276\n",
      "Trying Obzor with ID 6460072\n",
      "Trying Valera Fratta with ID 6535373\n",
      "Trying Rotunda with ID 668569\n",
      "Trying Courzieu with ID 3022859\n",
      "Trying Mayac with ID 6429433\n",
      "Trying Woosang with ID 2142910\n",
      "Trying Clinchamps-sur-Orne with ID 3024588\n",
      "Trying Taihe with ID 1793687\n",
      "Trying Fahrni with ID 7285788\n",
      "Trying Bölzke with ID 2946559\n",
      "Trying Srebrenica with ID 3190159\n",
      "Trying Saint-Léger-en-Yvelines with ID 6444074\n",
      "Trying Roncello with ID 6534490\n",
      "Trying Leudeville with ID 2999040\n",
      "Trying Sauviat-sur-Vige with ID 6612873\n",
      "Trying Bourogne with ID 3030891\n",
      "Trying Punalu‘u with ID 5852773\n",
      "Trying Voskresen’ye with ID 471573\n",
      "Trying Buhlbach with ID 2941960\n",
      "Trying Luserna with ID 3174430\n",
      "Trying Salyno-Khulsunskiye with ID 804751\n",
      "Trying Zlatina with ID 725289\n",
      "Trying Teutschenthal with ID 2823230\n",
      "Trying Collonges with ID 3024306\n",
      "Trying Unterer Riedhof with ID 2819654\n",
      "Trying Tāzān with ID 1333161\n",
      "Trying Souto de Carpalhosa with ID 8014333\n",
      "Trying Jalupang Dua with ID 7765694\n",
      "Trying Cloverdale with ID 4753268\n",
      "Trying Nossa Senhora do Livramento with ID 3456226\n",
      "Trying Trélazé with ID 6435338\n",
      "Trying Barbelroth with ID 2952844\n",
      "Trying Kępno with ID 7533086\n",
      "Trying Gadzhiyevo with ID 562245\n",
      "Trying Hørve with ID 2619844\n",
      "Trying Ghafurov with ID 1514900\n",
      "Trying Vättis with ID 2658183\n",
      "Trying Loubès-Bernac with ID 6434990\n",
      "Trying Metztitlán with ID 3523287\n",
      "Trying Tudela with ID 1681027\n",
      "Trying Bolanon with ID 1722967\n",
      "Trying Orrios with ID 6361579\n",
      "Trying Olanchito with ID 3604251\n",
      "Trying Raytsa with ID 622811\n",
      "Trying Ellesmere with ID 2650097\n",
      "Trying Walton Park with ID 5143168\n",
      "Trying Khārā Kōh with ID 1137047\n",
      "Trying Jerez de la Frontera with ID 6356935\n",
      "Trying Kealakekua with ID 5848956\n",
      "Trying Deutsch Evern with ID 2937809\n",
      "Trying Eugénie-les-Bains with ID 6448893\n",
      "Trying Trani with ID 3165322\n",
      "Trying Torpoint with ID 2635651\n",
      "Trying Plumlov with ID 3068162\n",
      "Trying Darbar Gharib Shah with ID 1336638\n",
      "Trying Bucşani with ID 683528\n",
      "Trying Veurne with ID 2784805\n",
      "Trying Leinde with ID 2879199\n",
      "Trying Yefutino with ID 6608597\n",
      "Trying Aotou with ID 1817887\n",
      "Trying Wanna with ID 2814241\n",
      "Trying Tsemdolina with ID 867405\n",
      "Trying Schwall with ID 2835356\n",
      "Trying Lisle-sur-Tarn with ID 6444867\n",
      "Trying Kyshtym with ID 1500997\n",
      "Trying Friedrich-Wilhelm-Lübke-Koog with ID 6551546\n",
      "Trying Lowestoft with ID 2643490\n",
      "Trying Senj with ID 2029427\n",
      "Trying Fresnes with ID 6613139\n",
      "Trying Domaio with ID 3123866\n",
      "Trying Carcelén with ID 6355312\n",
      "Trying Sultan-Ayaya with ID 1512734\n",
      "Trying Comalapa with ID 3598034\n",
      "Trying Murviel-lès-Montpellier with ID 2991118\n",
      "Trying San José Chiapa with ID 3518892\n",
      "Trying Pouilly-sous-Charlieu with ID 2985833\n",
      "Trying Midsalip with ID 1699757\n",
      "Trying Saint-Paul with ID 6617886\n",
      "Trying Djoyézi with ID 921913\n",
      "Trying Wilaya de Boumerdes with ID 2502638\n",
      "Trying Neufra with ID 2865331\n",
      "Trying Owego with ID 5130273\n",
      "Trying Nontron with ID 2990140\n",
      "Trying Pasanauri with ID 612502\n",
      "Trying Trout Lake with ID 6169397\n",
      "Trying Villanueva del Rebollar de la Sierra with ID 3105210\n",
      "Trying Mayskiy with ID 528228\n",
      "Trying Meerssen with ID 2751037\n",
      "Trying Arruda dos Vinhos with ID 2271438\n",
      "Trying Owl with ID 5380141\n",
      "Trying Barisan with ID 8058073\n",
      "Trying Catacamas with ID 3613974\n",
      "Trying Natorper Chaussee with ID 2866969\n",
      "Trying Vendes with ID 2970126\n",
      "Trying Vagos with ID 8010430\n",
      "Trying Villeneuve-de-la-Raho with ID 6441061\n",
      "Trying Brennberg with ID 6556676\n",
      "Trying Burdaard with ID 2758895\n",
      "Trying Zandhoven with ID 2783348\n",
      "Trying Sundby with ID 2612121\n",
      "Trying Artix with ID 6450397\n",
      "Trying Saint-Livres with ID 7287032\n",
      "Trying Villersexel with ID 2968392\n",
      "Trying Antiguo Cuscatlán with ID 3587362\n",
      "Trying Dobrun’ with ID 565783\n",
      "Trying Skryshava with ID 621858\n",
      "Trying Koktal with ID 1522466\n",
      "Trying Voskresenskoye with ID 471616\n",
      "Trying Sainte-Cécile-les-Vignes with ID 6445091\n",
      "Trying Kilmaganny with ID 2963282\n",
      "Trying Portiragnes with ID 6432591\n",
      "Trying Ballplay with ID 4831176\n",
      "Trying Kall with ID 6553067\n",
      "Trying Cantello with ID 6535096\n",
      "Trying San Cristóbal de Boedo with ID 6360105\n",
      "Trying Sylvester with ID 4225522\n",
      "Trying Reyes Acozac with ID 3523900\n",
      "Trying Vyselki with ID 817048\n",
      "Trying Cubillas de Santa Marta with ID 6362185\n",
      "Trying Sainte-Mondane with ID 2980390\n",
      "Trying Zorita de los Canes with ID 6358091\n",
      "Trying Mauel with ID 2872823\n",
      "Trying Stocksee with ID 2826679\n",
      "Trying Rhinelander with ID 5268720\n",
      "Trying Sorrento with ID 2149106\n",
      "Trying Xihe with ID 1789463\n",
      "Trying Wolfstein with ID 2806523\n",
      "Trying Alcobendas with ID 3130583\n",
      "Trying Kelapa Sawit with ID 1761293\n",
      "Trying Schluchsee with ID 2838208\n",
      "Trying Wohmbrechts with ID 2807023\n"
     ]
    },
    {
     "name": "stdout",
     "output_type": "stream",
     "text": [
      "Trying Międzyrzec Podlaski with ID 7531692\n",
      "Trying Saint-Antoine-de-Ficalba with ID 2981672\n",
      "Trying Windsor with ID 4983283\n",
      "Trying San Salvatore di Fitalia with ID 2523375\n",
      "Trying Blagodatnoye with ID 576147\n",
      "Trying Ilorin with ID 2337639\n",
      "Trying Zinacantepec with ID 3518221\n",
      "Trying Berdyaush with ID 577450\n",
      "Trying Ban Pakla with ID 1655186\n",
      "Trying Eleanor with ID 4804927\n",
      "Trying Lugrin with ID 2997158\n",
      "Trying Novosibirsk with ID 1496747\n",
      "Trying Dausse with ID 6613035\n",
      "Trying Sembabule with ID 226361\n",
      "Trying Zawātā with ID 281236\n",
      "Trying Powiat międzyrzecki with ID 7530979\n",
      "Trying Carrilobo with ID 3862515\n",
      "Trying Pazar with ID 740677\n",
      "Trying Inzell with ID 6556400\n",
      "Trying Tolga with ID 3134404\n",
      "Trying Upper Sturt with ID 2059582\n",
      "Trying Glenview with ID 4893886\n",
      "Trying Villefranche-de-Rouergue with ID 6427081\n",
      "Trying Otis Orchards-East Farms with ID 7262053\n",
      "Trying Fuerte del Rey with ID 2517482\n",
      "Trying Krasnyye Barrikady with ID 541795\n",
      "Trying Eltz with ID 2960614\n",
      "Trying Kassab with ID 168519\n",
      "Trying Yesan with ID 1832771\n",
      "Trying Tornillo with ID 5532423\n",
      "Trying Castelo de Paiva with ID 8010418\n",
      "Trying Deetz with ID 2938587\n",
      "Trying Tiron with ID 8183645\n",
      "Trying Wolfsburg-Unkeroda with ID 2806650\n",
      "Trying Mobo with ID 1699450\n",
      "Trying Baloc with ID 1727940\n",
      "Trying Peyrolles-en-Provence with ID 6447153\n",
      "Trying Estepa de San Juan with ID 6361133\n",
      "Trying Valtopina with ID 6535042\n",
      "Trying Stemmern with ID 2827490\n",
      "Trying Little Burnt Bay with ID 6055114\n",
      "Trying Bonito Oriental with ID 3614705\n",
      "Trying Pedrosa del Rey with ID 3114078\n",
      "Trying Puerto Bermejo with ID 3429801\n",
      "Trying Ottenhofen with ID 6556190\n",
      "Trying Cidadap with ID 1646886\n",
      "Trying Le Taillan-Médoc with ID 2999296\n",
      "Trying Koskullskulle with ID 605028\n",
      "Trying Ngunguru with ID 2186111\n",
      "Trying Jeblog Satu with ID 7035378\n",
      "Trying Iven with ID 6548268\n",
      "Trying Macieira de Cambra with ID 8014439\n",
      "Trying Santa Cruz de Tenerife with ID 6360638\n",
      "Trying Carcare with ID 3180557\n",
      "Trying Nankai with ID 1912606\n",
      "Trying Yetkul’ with ID 1485849\n",
      "Trying Mlýnec with ID 3070488\n",
      "Trying Aystetten with ID 6557129\n",
      "Trying Leonovo with ID 535977\n",
      "Trying Lind with ID 2877614\n",
      "Trying Kleinwenden with ID 2888015\n",
      "Trying Dimos Xylokastro-Evrostina with ID 8133978\n",
      "Trying Puch-d'Agenais with ID 6435038\n",
      "Trying Ostān-e Kermānshāh with ID 128222\n",
      "Trying Glendean with ID 1001719\n",
      "Trying Hodal with ID 1270000\n",
      "Trying Callander with ID 2653989\n",
      "Trying Saint-Marc-des-Carrières with ID 6138719\n",
      "Trying Fjerdingby with ID 7626323\n",
      "Trying Bunitz with ID 2941652\n",
      "Trying Ivrea with ID 3175385\n",
      "Trying Unión with ID 3833424\n",
      "Trying Jachenau with ID 2895517\n",
      "Trying Ashley with ID 2177558\n",
      "Trying Urdorf / Baumgarten with ID 6295405\n",
      "Trying Hajnówka with ID 7532457\n",
      "Trying Schwimbach with ID 2834193\n",
      "Trying Branch County with ID 4986828\n",
      "Trying Herbstadt with ID 6556977\n",
      "Trying Novaya Vyoska with ID 624396\n",
      "Trying Niederau with ID 2863645\n",
      "Trying Adiwerna with ID 1651887\n",
      "Trying Lambersart with ID 3008218\n",
      "Trying Gottschdorf with ID 2918591\n",
      "Trying Zhibu with ID 1784556\n",
      "Trying Zapel with ID 6548400\n",
      "Trying Lubochnia with ID 765863\n",
      "Trying Llanera with ID 1705922\n",
      "Trying Cappel with ID 2940322\n",
      "Trying Aylesford with ID 5888703\n",
      "Trying Mechnikovo with ID 6417691\n",
      "Trying Farah with ID 1271956\n",
      "Trying Alekseyevskaya with ID 2027911\n",
      "Trying Iraí de Minas with ID 3461051\n",
      "Trying Laigné-en-Belin with ID 3008684\n",
      "Trying Pasirluhur with ID 7921764\n",
      "Trying Sulzemoos with ID 2824753\n",
      "Trying Rettershain with ID 6554092\n",
      "Trying Bourbourg- Campagne with ID 3031083\n",
      "Trying Icuseşti with ID 675752\n",
      "Trying Oliva with ID 6362046\n",
      "Trying Sarābiyūm with ID 349598\n",
      "Trying Haunsheim with ID 6557160\n",
      "Trying Mange with ID 2406067\n",
      "Trying Babura with ID 2348419\n",
      "Trying Niederheimbach with ID 6555288\n",
      "Trying Neunkirchen with ID 6553146\n",
      "Trying Willow Glen with ID 4346310\n",
      "Trying Marbleton with ID 5831530\n",
      "Trying Próchoma with ID 734455\n",
      "Trying Kinatakutan with ID 1692052\n",
      "Trying Bucha with ID 2942820\n",
      "Trying Sant'Antonio di Gallura with ID 3167416\n",
      "Trying Moguer with ID 6358226\n",
      "Trying Rio Maior with ID 8010607\n"
     ]
    }
   ],
   "source": [
    "# Base url\n",
    "url = ' http://api.openweathermap.org/data/2.5/weather?'\n",
    "# Test city w/o loop\n",
    "#cityname = cityselect.iloc[0]['name']\n",
    "#cityID = cityselect.iloc[0]['id']\n",
    "# Test list\n",
    "#testlist = cityselect.iloc[0:10]\n",
    "\n",
    "# Create lists to store responses\n",
    "ID = []\n",
    "name = []\n",
    "clouds = []\n",
    "humidity = []\n",
    "temp = []\n",
    "max_temp = []\n",
    "wind_spd = []\n",
    "lat = []\n",
    "# Loop through cities\n",
    "for index,row in cityselect.iterrows():\n",
    "    # Print each city and ID number\n",
    "    print (f\"Trying {row['name']} with ID {row['id']}\")\n",
    "    try:\n",
    "        # build query url\n",
    "        query_url = f\"{url}appid={weather_api_key}&id={row['id']}&units=imperial\"\n",
    "        # request data for each city\n",
    "        response = requests.get(query_url).json()\n",
    "        # append values to lists\n",
    "        ID.append(row['id'])\n",
    "        name.append(row['name'])\n",
    "        clouds.append(response['clouds']['all'])\n",
    "        humidity.append(response['main']['humidity'])\n",
    "        temp.append(response['main']['temp'])\n",
    "        max_temp.append(response['main']['temp_max'])\n",
    "        wind_spd.append(response['wind']['speed'])\n",
    "        lat.append(row['coord']['lat'])\n",
    "    except:\n",
    "        print('Error: ID not found')\n",
    "\n",
    "\n",
    "  "
   ]
  },
  {
   "cell_type": "code",
   "execution_count": 4,
   "metadata": {},
   "outputs": [],
   "source": [
    "#--- TEST CELL ---\n",
    "# This cell was for testing json locations and dataframe construction. Preserved in comments for reference.\n",
    "\n",
    "# response['clouds']['all'] = clouds\n",
    "# response['main']['humidity'] = humidity\n",
    "# response['main']['temp'] = temp\n",
    "# response['main']['temp_max'] = max temp\n",
    "# response['wind']['speed'] = wind speed\n",
    "\n",
    "# ID = cityID\n",
    "# name = cityname\n",
    "# clouds = response['clouds']['all']\n",
    "# humidity = response['main']['humidity']\n",
    "# temp = response['main']['temp']\n",
    "# max_temp = response['main']['temp_max']\n",
    "# wind_spd = response['wind']['speed']\n",
    "\n",
    "# weather_df = pd.DataFrame({\n",
    "#     'name' : [name],\n",
    "#     'clouds' : [clouds],\n",
    "#     'humidity' : [humidity],\n",
    "#     'temp' : [temp],\n",
    "#     'max_temp' : [max_temp],\n",
    "#     'wind_spd' : [wind_spd]\n",
    "# })\n",
    "# weather_df\n",
    "# --- END ---"
   ]
  },
  {
   "cell_type": "code",
   "execution_count": null,
   "metadata": {},
   "outputs": [],
   "source": []
  },
  {
   "cell_type": "markdown",
   "metadata": {},
   "source": [
    "### Convert Raw Data to DataFrame\n",
    "* Export the city data into a .csv.\n",
    "* Display the DataFrame"
   ]
  },
  {
   "cell_type": "code",
   "execution_count": 11,
   "metadata": {},
   "outputs": [
    {
     "data": {
      "text/html": [
       "<div>\n",
       "<style scoped>\n",
       "    .dataframe tbody tr th:only-of-type {\n",
       "        vertical-align: middle;\n",
       "    }\n",
       "\n",
       "    .dataframe tbody tr th {\n",
       "        vertical-align: top;\n",
       "    }\n",
       "\n",
       "    .dataframe thead th {\n",
       "        text-align: right;\n",
       "    }\n",
       "</style>\n",
       "<table border=\"1\" class=\"dataframe\">\n",
       "  <thead>\n",
       "    <tr style=\"text-align: right;\">\n",
       "      <th></th>\n",
       "      <th>name</th>\n",
       "      <th>clouds</th>\n",
       "      <th>humidity</th>\n",
       "      <th>temp</th>\n",
       "      <th>max_temp</th>\n",
       "      <th>wind_spd</th>\n",
       "      <th>lat</th>\n",
       "    </tr>\n",
       "  </thead>\n",
       "  <tbody>\n",
       "    <tr>\n",
       "      <th>0</th>\n",
       "      <td>Crestuma</td>\n",
       "      <td>81</td>\n",
       "      <td>81</td>\n",
       "      <td>55.99</td>\n",
       "      <td>55.99</td>\n",
       "      <td>1.99</td>\n",
       "      <td>41.065609</td>\n",
       "    </tr>\n",
       "    <tr>\n",
       "      <th>1</th>\n",
       "      <td>Sparta</td>\n",
       "      <td>0</td>\n",
       "      <td>26</td>\n",
       "      <td>78.89</td>\n",
       "      <td>80.01</td>\n",
       "      <td>1.99</td>\n",
       "      <td>37.001160</td>\n",
       "    </tr>\n",
       "    <tr>\n",
       "      <th>2</th>\n",
       "      <td>Wormsleben</td>\n",
       "      <td>100</td>\n",
       "      <td>83</td>\n",
       "      <td>48.00</td>\n",
       "      <td>50.00</td>\n",
       "      <td>7.87</td>\n",
       "      <td>51.516670</td>\n",
       "    </tr>\n",
       "    <tr>\n",
       "      <th>3</th>\n",
       "      <td>Lymanske</td>\n",
       "      <td>75</td>\n",
       "      <td>100</td>\n",
       "      <td>68.00</td>\n",
       "      <td>68.00</td>\n",
       "      <td>17.90</td>\n",
       "      <td>46.655701</td>\n",
       "    </tr>\n",
       "    <tr>\n",
       "      <th>4</th>\n",
       "      <td>Gavril Genovo</td>\n",
       "      <td>73</td>\n",
       "      <td>10</td>\n",
       "      <td>50.76</td>\n",
       "      <td>52.00</td>\n",
       "      <td>3.78</td>\n",
       "      <td>43.397499</td>\n",
       "    </tr>\n",
       "  </tbody>\n",
       "</table>\n",
       "</div>"
      ],
      "text/plain": [
       "            name  clouds  humidity   temp  max_temp  wind_spd        lat\n",
       "0       Crestuma      81        81  55.99     55.99      1.99  41.065609\n",
       "1         Sparta       0        26  78.89     80.01      1.99  37.001160\n",
       "2     Wormsleben     100        83  48.00     50.00      7.87  51.516670\n",
       "3       Lymanske      75       100  68.00     68.00     17.90  46.655701\n",
       "4  Gavril Genovo      73        10  50.76     52.00      3.78  43.397499"
      ]
     },
     "execution_count": 11,
     "metadata": {},
     "output_type": "execute_result"
    }
   ],
   "source": [
    "# Assemble dataframe\n",
    "weather_df = pd.DataFrame({\n",
    "    'name' : name,\n",
    "    'clouds' : clouds,\n",
    "    'humidity' : humidity,\n",
    "    'temp' : temp,\n",
    "    'max_temp' : max_temp,\n",
    "    'wind_spd' : wind_spd,\n",
    "    'lat' : lat\n",
    "})\n",
    "\n",
    "weather_df.to_csv('outputs\\weatherdata.csv')\n",
    "weather_df.head()"
   ]
  },
  {
   "cell_type": "code",
   "execution_count": null,
   "metadata": {},
   "outputs": [],
   "source": []
  },
  {
   "cell_type": "markdown",
   "metadata": {},
   "source": [
    "## Inspect the data and remove the cities where the humidity > 100%.\n",
    "----\n",
    "Skip this step if there are no cities that have humidity > 100%. "
   ]
  },
  {
   "cell_type": "code",
   "execution_count": 6,
   "metadata": {},
   "outputs": [
    {
     "name": "stdout",
     "output_type": "stream",
     "text": [
      "No cities with over 100% humidity\n"
     ]
    }
   ],
   "source": [
    "if weather_df['humidity'].max()<=100:\n",
    "    print('No cities with over 100% humidity')"
   ]
  },
  {
   "cell_type": "code",
   "execution_count": 7,
   "metadata": {},
   "outputs": [],
   "source": [
    "#  Get the indices of cities that have humidity over 100%.\n"
   ]
  },
  {
   "cell_type": "code",
   "execution_count": 8,
   "metadata": {},
   "outputs": [],
   "source": [
    "# Make a new DataFrame equal to the city data to drop all humidity outliers by index.\n",
    "# Passing \"inplace=False\" will make a copy of the city_data DataFrame, which we call \"clean_city_data\".\n"
   ]
  },
  {
   "cell_type": "code",
   "execution_count": null,
   "metadata": {},
   "outputs": [],
   "source": [
    "\n"
   ]
  },
  {
   "cell_type": "markdown",
   "metadata": {},
   "source": [
    "## Plotting the Data\n",
    "* Use proper labeling of the plots using plot titles (including date of analysis) and axes labels.\n",
    "* Save the plotted figures as .pngs."
   ]
  },
  {
   "cell_type": "markdown",
   "metadata": {},
   "source": [
    "## Latitude vs. Temperature Plot"
   ]
  },
  {
   "cell_type": "code",
   "execution_count": 26,
   "metadata": {
    "scrolled": true
   },
   "outputs": [
    {
     "data": {
      "image/png": "[encoded data removed]",
      "text/plain": [
       "<Figure size 432x288 with 1 Axes>"
      ]
     },
     "metadata": {
      "needs_background": "light"
     },
     "output_type": "display_data"
    }
   ],
   "source": [
    "fig1, ax1 = plt.subplots()\n",
    "ax1.set_title('Latitude and Temperature Selected Cities')\n",
    "ax1.set_xlabel('Latitude (deg)')\n",
    "ax1.set_ylabel('Temperature (Fahrenheit)')\n",
    "ax1.scatter(weather_df['lat'], weather_df['temp'])\n",
    "plt.savefig('outputs/LatTemp.png')"
   ]
  },
  {
   "cell_type": "markdown",
   "metadata": {},
   "source": [
    "This plot shows the relationship between a city's latitude and current temperature. It shows that cities near the equator tended to have higher temperatures while cities in further the equator have low temperatures. The correlation appears sinusoidal. "
   ]
  },
  {
   "cell_type": "markdown",
   "metadata": {},
   "source": [
    "## Latitude vs. Humidity Plot"
   ]
  },
  {
   "cell_type": "code",
   "execution_count": 27,
   "metadata": {},
   "outputs": [
    {
     "data": {
      "image/png": "[encoded data removed]",
      "text/plain": [
       "<Figure size 432x288 with 1 Axes>"
      ]
     },
     "metadata": {
      "needs_background": "light"
     },
     "output_type": "display_data"
    }
   ],
   "source": [
    "fig2, ax2 = plt.subplots()\n",
    "ax2.set_title('Latitude and Humidity Selected Cities')\n",
    "ax2.set_xlabel('Latitude (deg)')\n",
    "ax2.set_ylabel('Humidity (%)')\n",
    "ax2.scatter(weather_df['lat'], weather_df['humidity'])\n",
    "plt.savefig('outputs/LatHumid.png')"
   ]
  },
  {
   "cell_type": "markdown",
   "metadata": {},
   "source": [
    "This plot shows the relationship between a city's latitude and current humidity. It does not show an apparent relationship between humidity and latitude. "
   ]
  },
  {
   "cell_type": "markdown",
   "metadata": {},
   "source": [
    "## Latitude vs. Cloudiness Plot"
   ]
  },
  {
   "cell_type": "code",
   "execution_count": 28,
   "metadata": {},
   "outputs": [
    {
     "data": {
      "image/png": "[encoded data removed]",
      "text/plain": [
       "<Figure size 432x288 with 1 Axes>"
      ]
     },
     "metadata": {
      "needs_background": "light"
     },
     "output_type": "display_data"
    }
   ],
   "source": [
    "fig3, ax3 = plt.subplots()\n",
    "ax3.set_title('Latitude and Cloudiness Selected Cities')\n",
    "ax3.set_xlabel('Latitude (deg)')\n",
    "ax3.set_ylabel('Cloudiness (%)')\n",
    "ax3.scatter(weather_df['lat'], weather_df['clouds'])\n",
    "plt.savefig('outputs/LatCloud.png')"
   ]
  },
  {
   "cell_type": "markdown",
   "metadata": {},
   "source": [
    "This plot shows the relationship between a city's latitude and current cloudiness. It does not show an apparent relationship between cloudiness and latitude. "
   ]
  },
  {
   "cell_type": "markdown",
   "metadata": {},
   "source": [
    "## Latitude vs. Wind Speed Plot"
   ]
  },
  {
   "cell_type": "code",
   "execution_count": 29,
   "metadata": {},
   "outputs": [
    {
     "data": {
      "image/png": "[encoded data removed]",
      "text/plain": [
       "<Figure size 432x288 with 1 Axes>"
      ]
     },
     "metadata": {
      "needs_background": "light"
     },
     "output_type": "display_data"
    }
   ],
   "source": [
    "fig4, ax4 = plt.subplots()\n",
    "ax4.set_title('Latitude and Wind Speed Selected Cities')\n",
    "ax4.set_xlabel('Latitude (deg)')\n",
    "ax4.set_ylabel('Wind Speed (mph)')\n",
    "ax4.scatter(weather_df['lat'], weather_df['wind_spd'])\n",
    "plt.savefig('outputs/LatWind.png')"
   ]
  },
  {
   "cell_type": "markdown",
   "metadata": {},
   "source": [
    "This plot shows the relationship between a city's latitude and current wind speed. It does not show an apparent relationship between humidity and wind speed. "
   ]
  },
  {
   "cell_type": "markdown",
   "metadata": {},
   "source": [
    "## Linear Regression"
   ]
  },
  {
   "cell_type": "code",
   "execution_count": 33,
   "metadata": {},
   "outputs": [
    {
     "data": {
      "text/html": [
       "<div>\n",
       "<style scoped>\n",
       "    .dataframe tbody tr th:only-of-type {\n",
       "        vertical-align: middle;\n",
       "    }\n",
       "\n",
       "    .dataframe tbody tr th {\n",
       "        vertical-align: top;\n",
       "    }\n",
       "\n",
       "    .dataframe thead th {\n",
       "        text-align: right;\n",
       "    }\n",
       "</style>\n",
       "<table border=\"1\" class=\"dataframe\">\n",
       "  <thead>\n",
       "    <tr style=\"text-align: right;\">\n",
       "      <th></th>\n",
       "      <th>name</th>\n",
       "      <th>clouds</th>\n",
       "      <th>humidity</th>\n",
       "      <th>temp</th>\n",
       "      <th>max_temp</th>\n",
       "      <th>wind_spd</th>\n",
       "      <th>lat</th>\n",
       "    </tr>\n",
       "  </thead>\n",
       "  <tbody>\n",
       "    <tr>\n",
       "      <th>0</th>\n",
       "      <td>Crestuma</td>\n",
       "      <td>81</td>\n",
       "      <td>81</td>\n",
       "      <td>55.99</td>\n",
       "      <td>55.99</td>\n",
       "      <td>1.99</td>\n",
       "      <td>41.065609</td>\n",
       "    </tr>\n",
       "    <tr>\n",
       "      <th>1</th>\n",
       "      <td>Sparta</td>\n",
       "      <td>0</td>\n",
       "      <td>26</td>\n",
       "      <td>78.89</td>\n",
       "      <td>80.01</td>\n",
       "      <td>1.99</td>\n",
       "      <td>37.001160</td>\n",
       "    </tr>\n",
       "    <tr>\n",
       "      <th>2</th>\n",
       "      <td>Wormsleben</td>\n",
       "      <td>100</td>\n",
       "      <td>83</td>\n",
       "      <td>48.00</td>\n",
       "      <td>50.00</td>\n",
       "      <td>7.87</td>\n",
       "      <td>51.516670</td>\n",
       "    </tr>\n",
       "    <tr>\n",
       "      <th>3</th>\n",
       "      <td>Lymanske</td>\n",
       "      <td>75</td>\n",
       "      <td>100</td>\n",
       "      <td>68.00</td>\n",
       "      <td>68.00</td>\n",
       "      <td>17.90</td>\n",
       "      <td>46.655701</td>\n",
       "    </tr>\n",
       "    <tr>\n",
       "      <th>4</th>\n",
       "      <td>Gavril Genovo</td>\n",
       "      <td>73</td>\n",
       "      <td>10</td>\n",
       "      <td>50.76</td>\n",
       "      <td>52.00</td>\n",
       "      <td>3.78</td>\n",
       "      <td>43.397499</td>\n",
       "    </tr>\n",
       "    <tr>\n",
       "      <th>...</th>\n",
       "      <td>...</td>\n",
       "      <td>...</td>\n",
       "      <td>...</td>\n",
       "      <td>...</td>\n",
       "      <td>...</td>\n",
       "      <td>...</td>\n",
       "      <td>...</td>\n",
       "    </tr>\n",
       "    <tr>\n",
       "      <th>595</th>\n",
       "      <td>Kinatakutan</td>\n",
       "      <td>100</td>\n",
       "      <td>90</td>\n",
       "      <td>77.11</td>\n",
       "      <td>77.11</td>\n",
       "      <td>8.57</td>\n",
       "      <td>13.952500</td>\n",
       "    </tr>\n",
       "    <tr>\n",
       "      <th>596</th>\n",
       "      <td>Bucha</td>\n",
       "      <td>100</td>\n",
       "      <td>77</td>\n",
       "      <td>42.67</td>\n",
       "      <td>43.00</td>\n",
       "      <td>1.01</td>\n",
       "      <td>50.633331</td>\n",
       "    </tr>\n",
       "    <tr>\n",
       "      <th>597</th>\n",
       "      <td>Sant'Antonio di Gallura</td>\n",
       "      <td>40</td>\n",
       "      <td>67</td>\n",
       "      <td>60.80</td>\n",
       "      <td>60.80</td>\n",
       "      <td>14.99</td>\n",
       "      <td>40.991070</td>\n",
       "    </tr>\n",
       "    <tr>\n",
       "      <th>598</th>\n",
       "      <td>Moguer</td>\n",
       "      <td>0</td>\n",
       "      <td>41</td>\n",
       "      <td>68.00</td>\n",
       "      <td>68.00</td>\n",
       "      <td>11.01</td>\n",
       "      <td>37.246189</td>\n",
       "    </tr>\n",
       "    <tr>\n",
       "      <th>599</th>\n",
       "      <td>Rio Maior</td>\n",
       "      <td>10</td>\n",
       "      <td>77</td>\n",
       "      <td>59.34</td>\n",
       "      <td>60.01</td>\n",
       "      <td>11.01</td>\n",
       "      <td>39.311989</td>\n",
       "    </tr>\n",
       "  </tbody>\n",
       "</table>\n",
       "<p>549 rows × 7 columns</p>\n",
       "</div>"
      ],
      "text/plain": [
       "                        name  clouds  humidity   temp  max_temp  wind_spd  \\\n",
       "0                   Crestuma      81        81  55.99     55.99      1.99   \n",
       "1                     Sparta       0        26  78.89     80.01      1.99   \n",
       "2                 Wormsleben     100        83  48.00     50.00      7.87   \n",
       "3                   Lymanske      75       100  68.00     68.00     17.90   \n",
       "4              Gavril Genovo      73        10  50.76     52.00      3.78   \n",
       "..                       ...     ...       ...    ...       ...       ...   \n",
       "595              Kinatakutan     100        90  77.11     77.11      8.57   \n",
       "596                    Bucha     100        77  42.67     43.00      1.01   \n",
       "597  Sant'Antonio di Gallura      40        67  60.80     60.80     14.99   \n",
       "598                   Moguer       0        41  68.00     68.00     11.01   \n",
       "599                Rio Maior      10        77  59.34     60.01     11.01   \n",
       "\n",
       "           lat  \n",
       "0    41.065609  \n",
       "1    37.001160  \n",
       "2    51.516670  \n",
       "3    46.655701  \n",
       "4    43.397499  \n",
       "..         ...  \n",
       "595  13.952500  \n",
       "596  50.633331  \n",
       "597  40.991070  \n",
       "598  37.246189  \n",
       "599  39.311989  \n",
       "\n",
       "[549 rows x 7 columns]"
      ]
     },
     "execution_count": 33,
     "metadata": {},
     "output_type": "execute_result"
    }
   ],
   "source": [
    "# Split cities in norther nand southern hemispheres\n",
    "north_cities = weather_df[weather_df['lat']>0]\n",
    "south_cities = weather_df[weather_df['lat']<0]\n",
    "north_cities"
   ]
  },
  {
   "cell_type": "markdown",
   "metadata": {},
   "source": [
    "####  Northern Hemisphere - Max Temp vs. Latitude Linear Regression"
   ]
  },
  {
   "cell_type": "code",
   "execution_count": 61,
   "metadata": {},
   "outputs": [
    {
     "name": "stdout",
     "output_type": "stream",
     "text": [
      "The r-squared is: 0.6143610125687893\n"
     ]
    },
    {
     "data": {
      "image/png": "[encoded data removed]",
      "text/plain": [
       "<Figure size 432x288 with 1 Axes>"
      ]
     },
     "metadata": {
      "needs_background": "light"
     },
     "output_type": "display_data"
    }
   ],
   "source": [
    "x_values = north_cities['lat']\n",
    "y_values = north_cities['max_temp']\n",
    "(slope, intercept, rvalue, pvalue, stderr) = stats.linregress(x_values, y_values)\n",
    "regress_values = x_values * slope + intercept\n",
    "line_eq = \"y = \" + str(round(slope,2)) + \"x + \" + str(round(intercept,2))\n",
    "plt.scatter(x_values,y_values)\n",
    "plt.plot(x_values,regress_values,\"r-\")\n",
    "plt.annotate(line_eq,(5,35),fontsize=15,color=\"red\")\n",
    "plt.xlabel('Latitude (deg)')\n",
    "plt.ylabel('Max Temperature (Fahrenheit)')\n",
    "plt.title('Latitude and Maximum Temperature in the Northern Hemisphere')\n",
    "print(f\"The r-squared is: {rvalue**2}\")\n",
    "plt.show()"
   ]
  },
  {
   "cell_type": "markdown",
   "metadata": {},
   "source": []
  },
  {
   "cell_type": "markdown",
   "metadata": {},
   "source": [
    "####  Southern Hemisphere - Max Temp vs. Latitude Linear Regression"
   ]
  },
  {
   "cell_type": "code",
   "execution_count": 63,
   "metadata": {},
   "outputs": [
    {
     "name": "stdout",
     "output_type": "stream",
     "text": [
      "The r-squared is: 0.22379917626082635\n"
     ]
    },
    {
     "data": {
      "image/png": "[encoded data removed]",
      "text/plain": [
       "<Figure size 432x288 with 1 Axes>"
      ]
     },
     "metadata": {
      "needs_background": "light"
     },
     "output_type": "display_data"
    }
   ],
   "source": [
    "x_values = south_cities['lat']\n",
    "y_values = south_cities['max_temp']\n",
    "(slope, intercept, rvalue, pvalue, stderr) = stats.linregress(x_values, y_values)\n",
    "regress_values = x_values * slope + intercept\n",
    "line_eq = \"y = \" + str(round(slope,2)) + \"x + \" + str(round(intercept,2))\n",
    "plt.scatter(x_values,y_values)\n",
    "plt.plot(x_values,regress_values,\"r-\")\n",
    "plt.annotate(line_eq,(-25,45),fontsize=15,color=\"red\")\n",
    "plt.xlabel('Latitude (deg)')\n",
    "plt.ylabel('Max Temperature (Fahrenheit)')\n",
    "plt.title('Latitude and Maximum Temperature in the Southern Hemisphere')\n",
    "print(f\"The r-squared is: {rvalue**2}\")\n",
    "plt.show()"
   ]
  },
  {
   "cell_type": "markdown",
   "metadata": {},
   "source": [
    "The two plots above show linear regressions for latitude and maximum temperature in the northern and southern hemispheres. The northern hemisphere shows a stronger, negative correlation, and the southern hemisphere shows a weaker, positive correlation. These results suggest that temperatures near the equator tend to be higher. "
   ]
  },
  {
   "cell_type": "markdown",
   "metadata": {},
   "source": [
    "####  Northern Hemisphere - Humidity (%) vs. Latitude Linear Regression"
   ]
  },
  {
   "cell_type": "code",
   "execution_count": 64,
   "metadata": {},
   "outputs": [
    {
     "name": "stdout",
     "output_type": "stream",
     "text": [
      "The r-squared is: 0.060454381803893446\n"
     ]
    },
    {
     "data": {
      "image/png": "[encoded data removed]",
      "text/plain": [
       "<Figure size 432x288 with 1 Axes>"
      ]
     },
     "metadata": {
      "needs_background": "light"
     },
     "output_type": "display_data"
    }
   ],
   "source": [
    "x_values = north_cities['lat']\n",
    "y_values = north_cities['humidity']\n",
    "(slope, intercept, rvalue, pvalue, stderr) = stats.linregress(x_values, y_values)\n",
    "regress_values = x_values * slope + intercept\n",
    "line_eq = \"y = \" + str(round(slope,2)) + \"x + \" + str(round(intercept,2))\n",
    "plt.scatter(x_values,y_values)\n",
    "plt.plot(x_values,regress_values,\"r-\")\n",
    "plt.annotate(line_eq,(5,35),fontsize=15,color=\"red\")\n",
    "plt.xlabel('Latitude (deg)')\n",
    "plt.ylabel('Humidity (%)')\n",
    "plt.title('Latitude and Humidity in the Northern Hemisphere')\n",
    "print(f\"The r-squared is: {rvalue**2}\")\n",
    "plt.show()"
   ]
  },
  {
   "cell_type": "markdown",
   "metadata": {},
   "source": [
    "####  Southern Hemisphere - Humidity (%) vs. Latitude Linear Regression"
   ]
  },
  {
   "cell_type": "code",
   "execution_count": 66,
   "metadata": {},
   "outputs": [
    {
     "name": "stdout",
     "output_type": "stream",
     "text": [
      "The r-squared is: 0.009242594929388084\n"
     ]
    },
    {
     "data": {
      "image/png": "[encoded data removed]",
      "text/plain": [
       "<Figure size 432x288 with 1 Axes>"
      ]
     },
     "metadata": {
      "needs_background": "light"
     },
     "output_type": "display_data"
    }
   ],
   "source": [
    "x_values = south_cities['lat']\n",
    "y_values = south_cities['humidity']\n",
    "(slope, intercept, rvalue, pvalue, stderr) = stats.linregress(x_values, y_values)\n",
    "regress_values = x_values * slope + intercept\n",
    "line_eq = \"y = \" + str(round(slope,2)) + \"x + \" + str(round(intercept,2))\n",
    "plt.scatter(x_values,y_values)\n",
    "plt.plot(x_values,regress_values,\"r-\")\n",
    "plt.annotate(line_eq,(-25,45),fontsize=15,color=\"red\")\n",
    "plt.xlabel('Latitude (deg)')\n",
    "plt.ylabel('Humidity (%)')\n",
    "plt.title('Latitude and Humidity in the Southern Hemisphere')\n",
    "print(f\"The r-squared is: {rvalue**2}\")\n",
    "plt.show()"
   ]
  },
  {
   "cell_type": "markdown",
   "metadata": {},
   "source": [
    "The two plots above show linear regressions for latitude and humidity in the northern and southern hemispheres. Both hemispheres do not show a correlation between these variables. Investigation of other geographic factors such as proximity to bodies of water may show better results."
   ]
  },
  {
   "cell_type": "markdown",
   "metadata": {},
   "source": [
    "####  Northern Hemisphere - Cloudiness (%) vs. Latitude Linear Regression"
   ]
  },
  {
   "cell_type": "code",
   "execution_count": 67,
   "metadata": {},
   "outputs": [
    {
     "name": "stdout",
     "output_type": "stream",
     "text": [
      "The r-squared is: 0.011823923257343242\n"
     ]
    },
    {
     "data": {
      "image/png": "[encoded data removed]",
      "text/plain": [
       "<Figure size 432x288 with 1 Axes>"
      ]
     },
     "metadata": {
      "needs_background": "light"
     },
     "output_type": "display_data"
    }
   ],
   "source": [
    "x_values = north_cities['lat']\n",
    "y_values = north_cities['clouds']\n",
    "(slope, intercept, rvalue, pvalue, stderr) = stats.linregress(x_values, y_values)\n",
    "regress_values = x_values * slope + intercept\n",
    "line_eq = \"y = \" + str(round(slope,2)) + \"x + \" + str(round(intercept,2))\n",
    "plt.scatter(x_values,y_values)\n",
    "plt.plot(x_values,regress_values,\"r-\")\n",
    "plt.annotate(line_eq,(5,35),fontsize=15,color=\"red\")\n",
    "plt.xlabel('Latitude (deg)')\n",
    "plt.ylabel('Cloudiness (%)')\n",
    "plt.title('Latitude and Cloudiness in the Northern Hemisphere')\n",
    "print(f\"The r-squared is: {rvalue**2}\")\n",
    "plt.show()"
   ]
  },
  {
   "cell_type": "markdown",
   "metadata": {},
   "source": [
    "####  Southern Hemisphere - Cloudiness (%) vs. Latitude Linear Regression"
   ]
  },
  {
   "cell_type": "code",
   "execution_count": 68,
   "metadata": {},
   "outputs": [
    {
     "name": "stdout",
     "output_type": "stream",
     "text": [
      "The r-squared is: 0.24776553243999463\n"
     ]
    },
    {
     "data": {
      "image/png": "[encoded data removed]",
      "text/plain": [
       "<Figure size 432x288 with 1 Axes>"
      ]
     },
     "metadata": {
      "needs_background": "light"
     },
     "output_type": "display_data"
    }
   ],
   "source": [
    "x_values = south_cities['lat']\n",
    "y_values = south_cities['clouds']\n",
    "(slope, intercept, rvalue, pvalue, stderr) = stats.linregress(x_values, y_values)\n",
    "regress_values = x_values * slope + intercept\n",
    "line_eq = \"y = \" + str(round(slope,2)) + \"x + \" + str(round(intercept,2))\n",
    "plt.scatter(x_values,y_values)\n",
    "plt.plot(x_values,regress_values,\"r-\")\n",
    "plt.annotate(line_eq,(-25,45),fontsize=15,color=\"red\")\n",
    "plt.xlabel('Latitude (deg)')\n",
    "plt.ylabel('Cloudiness (%)')\n",
    "plt.title('Latitude and Cloudiness in the Southern Hemisphere')\n",
    "print(f\"The r-squared is: {rvalue**2}\")\n",
    "plt.show()"
   ]
  },
  {
   "cell_type": "markdown",
   "metadata": {},
   "source": [
    "The two plots above show linear regressions for latitude and cloudiness in the northern and southern hemispheres. The northern hemisphere shows no correlation between cloudiness and latitude. The southern hemisphere shows a weak, positive correlation. It may suggest some relationship, but it also may be coincidence driven by unrelated weather phenomena."
   ]
  },
  {
   "cell_type": "markdown",
   "metadata": {},
   "source": [
    "####  Northern Hemisphere - Wind Speed (mph) vs. Latitude Linear Regression"
   ]
  },
  {
   "cell_type": "code",
   "execution_count": 70,
   "metadata": {},
   "outputs": [
    {
     "name": "stdout",
     "output_type": "stream",
     "text": [
      "The r-squared is: 0.0033251314629538795\n"
     ]
    },
    {
     "data": {
      "image/png": "[encoded data removed]",
      "text/plain": [
       "<Figure size 432x288 with 1 Axes>"
      ]
     },
     "metadata": {
      "needs_background": "light"
     },
     "output_type": "display_data"
    }
   ],
   "source": [
    "x_values = north_cities['lat']\n",
    "y_values = north_cities['wind_spd']\n",
    "(slope, intercept, rvalue, pvalue, stderr) = stats.linregress(x_values, y_values)\n",
    "regress_values = x_values * slope + intercept\n",
    "line_eq = \"y = \" + str(round(slope,2)) + \"x + \" + str(round(intercept,2))\n",
    "plt.scatter(x_values,y_values)\n",
    "plt.plot(x_values,regress_values,\"r-\")\n",
    "plt.annotate(line_eq,(5,22),fontsize=15,color=\"red\")\n",
    "plt.xlabel('Latitude (deg)')\n",
    "plt.ylabel('Wind Speed (mph)')\n",
    "plt.title('Latitude and Wind Speed in the Northern Hemisphere')\n",
    "print(f\"The r-squared is: {rvalue**2}\")\n",
    "plt.show()"
   ]
  },
  {
   "cell_type": "markdown",
   "metadata": {},
   "source": [
    "####  Southern Hemisphere - Wind Speed (mph) vs. Latitude Linear Regression"
   ]
  },
  {
   "cell_type": "code",
   "execution_count": 72,
   "metadata": {},
   "outputs": [
    {
     "name": "stdout",
     "output_type": "stream",
     "text": [
      "The r-squared is: 0.011909319895314192\n"
     ]
    },
    {
     "data": {
      "image/png": "[encoded data removed]",
      "text/plain": [
       "<Figure size 432x288 with 1 Axes>"
      ]
     },
     "metadata": {
      "needs_background": "light"
     },
     "output_type": "display_data"
    }
   ],
   "source": [
    "x_values = south_cities['lat']\n",
    "y_values = south_cities['wind_spd']\n",
    "(slope, intercept, rvalue, pvalue, stderr) = stats.linregress(x_values, y_values)\n",
    "regress_values = x_values * slope + intercept\n",
    "line_eq = \"y = \" + str(round(slope,2)) + \"x + \" + str(round(intercept,2))\n",
    "plt.scatter(x_values,y_values)\n",
    "plt.plot(x_values,regress_values,\"r-\")\n",
    "plt.annotate(line_eq,(-20,12),fontsize=15,color=\"red\")\n",
    "plt.xlabel('Latitude (deg)')\n",
    "plt.ylabel('Wind Speed (mph)')\n",
    "plt.title('Latitude and Wind Speed in the Southern Hemisphere')\n",
    "print(f\"The r-squared is: {rvalue**2}\")\n",
    "plt.show()"
   ]
  },
  {
   "cell_type": "markdown",
   "metadata": {},
   "source": [
    "The two plots above show linear regressions for latitude and wind speed in the northern and southern hemispheres. Both hemispheres do not show a correlation between these variables. Investigation of other geographic factors such as proximity to bodies of water or mountain ranges may show better results."
   ]
  }
 ],
 "metadata": {
  "anaconda-cloud": {},
  "kernel_info": {
   "name": "python3"
  },
  "kernelspec": {
   "display_name": "Python 3",
   "language": "python",
   "name": "python3"
  },
  "language_info": {
   "codemirror_mode": {
    "name": "ipython",
    "version": 3
   },
   "file_extension": ".py",
   "mimetype": "text/x-python",
   "name": "python",
   "nbconvert_exporter": "python",
   "pygments_lexer": "ipython3",
   "version": "3.8.3"
  },
  "latex_envs": {
   "LaTeX_envs_menu_present": true,
   "autoclose": false,
   "autocomplete": true,
   "bibliofile": "biblio.bib",
   "cite_by": "apalike",
   "current_citInitial": 1,
   "eqLabelWithNumbers": true,
   "eqNumInitial": 1,
   "hotkeys": {
    "equation": "Ctrl-E",
    "itemize": "Ctrl-I"
   },
   "labels_anchors": false,
   "latex_user_defs": false,
   "report_style_numbering": false,
   "user_envs_cfg": false
  },
  "nteract": {
   "version": "0.12.3"
  }
 },
 "nbformat": 4,
 "nbformat_minor": 2
}
