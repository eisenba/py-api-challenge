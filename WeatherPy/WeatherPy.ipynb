{
 "cells": [
  {
   "cell_type": "markdown",
   "metadata": {},
   "source": [
    "# WeatherPy\n",
    "----\n",
    "\n",
    "#### Note\n",
    "* Instructions have been included for each segment. You do not have to follow them exactly, but they are included to help you think through the steps."
   ]
  },
  {
   "cell_type": "code",
   "execution_count": 1,
   "metadata": {
    "scrolled": true
   },
   "outputs": [],
   "source": [
    "import matplotlib.pyplot as plt\n",
    "import requests\n",
    "from scipy import stats\n",
    "import pandas as pd\n",
    "from config import weather_api_key\n",
    "import random\n",
    "import json"
   ]
  },
  {
   "cell_type": "markdown",
   "metadata": {},
   "source": [
    "## Generate Cities List"
   ]
  },
  {
   "cell_type": "code",
   "execution_count": 2,
   "metadata": {},
   "outputs": [
    {
     "data": {
      "text/html": [
       "<div>\n",
       "<style scoped>\n",
       "    .dataframe tbody tr th:only-of-type {\n",
       "        vertical-align: middle;\n",
       "    }\n",
       "\n",
       "    .dataframe tbody tr th {\n",
       "        vertical-align: top;\n",
       "    }\n",
       "\n",
       "    .dataframe thead th {\n",
       "        text-align: right;\n",
       "    }\n",
       "</style>\n",
       "<table border=\"1\" class=\"dataframe\">\n",
       "  <thead>\n",
       "    <tr style=\"text-align: right;\">\n",
       "      <th></th>\n",
       "      <th>id</th>\n",
       "      <th>name</th>\n",
       "      <th>state</th>\n",
       "      <th>country</th>\n",
       "      <th>coord</th>\n",
       "    </tr>\n",
       "  </thead>\n",
       "  <tbody>\n",
       "    <tr>\n",
       "      <th>50098</th>\n",
       "      <td>2143724</td>\n",
       "      <td>Wiangaree</td>\n",
       "      <td></td>\n",
       "      <td>AU</td>\n",
       "      <td>{'lon': 152.966675, 'lat': -28.51667}</td>\n",
       "    </tr>\n",
       "    <tr>\n",
       "      <th>114198</th>\n",
       "      <td>3111443</td>\n",
       "      <td>Rodilana</td>\n",
       "      <td></td>\n",
       "      <td>ES</td>\n",
       "      <td>{'lon': -4.87798, 'lat': 41.37059}</td>\n",
       "    </tr>\n",
       "    <tr>\n",
       "      <th>91018</th>\n",
       "      <td>2935573</td>\n",
       "      <td>Dörrenbach</td>\n",
       "      <td></td>\n",
       "      <td>DE</td>\n",
       "      <td>{'lon': 7.9614, 'lat': 49.089722}</td>\n",
       "    </tr>\n",
       "    <tr>\n",
       "      <th>194254</th>\n",
       "      <td>7076796</td>\n",
       "      <td>Heiiyugou</td>\n",
       "      <td></td>\n",
       "      <td>CN</td>\n",
       "      <td>{'lon': 120.55368, 'lat': 40.804298}</td>\n",
       "    </tr>\n",
       "    <tr>\n",
       "      <th>48046</th>\n",
       "      <td>2036965</td>\n",
       "      <td>Heilongjiang Sheng</td>\n",
       "      <td></td>\n",
       "      <td>CN</td>\n",
       "      <td>{'lon': 128.0, 'lat': 48.0}</td>\n",
       "    </tr>\n",
       "  </tbody>\n",
       "</table>\n",
       "</div>"
      ],
      "text/plain": [
       "             id                name state country  \\\n",
       "50098   2143724           Wiangaree            AU   \n",
       "114198  3111443            Rodilana            ES   \n",
       "91018   2935573          Dörrenbach            DE   \n",
       "194254  7076796           Heiiyugou            CN   \n",
       "48046   2036965  Heilongjiang Sheng            CN   \n",
       "\n",
       "                                        coord  \n",
       "50098   {'lon': 152.966675, 'lat': -28.51667}  \n",
       "114198     {'lon': -4.87798, 'lat': 41.37059}  \n",
       "91018       {'lon': 7.9614, 'lat': 49.089722}  \n",
       "194254   {'lon': 120.55368, 'lat': 40.804298}  \n",
       "48046             {'lon': 128.0, 'lat': 48.0}  "
      ]
     },
     "execution_count": 2,
     "metadata": {},
     "output_type": "execute_result"
    }
   ],
   "source": [
    "# Read json of cities and city IDs\n",
    "citylist = pd.read_json('F:\\Matt\\GitHome\\py-api-challenge\\citylist.json')\n",
    "# Select sample of cities\n",
    "cityselect = pd.DataFrame(citylist.sample(600))\n",
    "cityselect.head()"
   ]
  },
  {
   "cell_type": "code",
   "execution_count": null,
   "metadata": {},
   "outputs": [],
   "source": []
  },
  {
   "cell_type": "markdown",
   "metadata": {},
   "source": [
    "### Perform API Calls\n",
    "* Perform a weather check on each city using a series of successive API calls.\n",
    "* Include a print log of each city as it'sbeing processed (with the city number and city name).\n"
   ]
  },
  {
   "cell_type": "code",
   "execution_count": 3,
   "metadata": {
    "scrolled": true
   },
   "outputs": [
    {
     "name": "stdout",
     "output_type": "stream",
     "text": [
      "Trying Wiangaree with ID 2143724\n",
      "Trying Rodilana with ID 3111443\n",
      "Trying Dörrenbach with ID 2935573\n",
      "Trying Heiiyugou with ID 7076796\n",
      "Trying Heilongjiang Sheng with ID 2036965\n",
      "Trying Rio Pomba with ID 3451094\n",
      "Trying San Carlos del Zulia with ID 3628489\n",
      "Trying Tsamkanī with ID 1145511\n",
      "Trying Lapu-Lapu City (Opon) with ID 1707266\n",
      "Trying Kirch Jesar with ID 6547945\n",
      "Trying Mockrehna with ID 6548789\n",
      "Trying Chañe with ID 3125216\n",
      "Trying Ovindoli with ID 3171768\n",
      "Trying Vehlgast with ID 2817773\n",
      "Trying Frutigen with ID 7285873\n",
      "Trying Oberleiten with ID 2859929\n",
      "Trying Knivsta with ID 2700199\n",
      "Trying Curiel de Duero with ID 6362187\n",
      "Trying Saddina with ID 2526159\n",
      "Trying Schlat with ID 6555469\n",
      "Trying Charlevoix with ID 4988575\n",
      "Trying Levokumka with ID 535440\n",
      "Trying Mumford with ID 2297810\n",
      "Trying Viellenave-d'Arthez with ID 6440654\n",
      "Trying Ciawi with ID 7848151\n",
      "Trying Lat Krabang with ID 6957690\n",
      "Trying Amaseno with ID 3183124\n",
      "Trying Lawson Heights with ID 5197463\n",
      "Trying Miserey-Salines with ID 2993701\n",
      "Trying Mateeşti with ID 673683\n",
      "Trying Consiglio di Rumo with ID 6534469\n",
      "Trying Holbæk Kommune with ID 2620141\n",
      "Trying Aroue-Ithorots-Olhaïby with ID 3036828\n",
      "Trying Jonesville with ID 4767229\n",
      "Trying Neufra with ID 2865331\n",
      "Trying El Coco with ID 3711056\n",
      "Trying Shanxia with ID 1921281\n",
      "Trying Sloughhouse with ID 5396498\n",
      "Trying Aosta with ID 3182997\n",
      "Trying Oensingen with ID 2659311\n",
      "Trying Thornton with ID 4913605\n",
      "Trying Archie with ID 4375040\n",
      "Trying Rzeczyca with ID 759779\n",
      "Trying Mędrzechów with ID 765030\n",
      "Trying Loughlinstown with ID 2962804\n",
      "Trying Ibbenbüren with ID 2896817\n",
      "Trying Berzosa de Bureba with ID 6356371\n",
      "Trying Niederbreitbach with ID 2863574\n",
      "Trying Leribe District with ID 932700\n",
      "Trying Altentreswitz with ID 2957436\n",
      "Trying Ahaus with ID 2959279\n",
      "Trying Belvès-de-Castillon with ID 6448407\n",
      "Trying Irxleben with ID 2895731\n",
      "Trying Capitol Heights with ID 4350359\n",
      "Trying Logrosán with ID 6356804\n",
      "Trying Qujiadian with ID 2035231\n",
      "Trying Kanem Region with ID 2430873\n",
      "Trying Oberdorfelden with ID 2861063\n",
      "Trying Manoharpur with ID 1263651\n",
      "Trying Aicheng with ID 1818164\n",
      "Trying Tharyarwady with ID 1292313\n",
      "Trying Saint-Gervais with ID 6454810\n",
      "Trying Cognac-la-Forêt with ID 3024438\n",
      "Trying San Miguel with ID 3428644\n",
      "Trying Martignana di Po with ID 6535235\n",
      "Trying Schannenbach with ID 2840475\n",
      "Trying Beersheba with ID 295530\n",
      "Trying Hopetoun with ID 2163168\n",
      "Trying Moroeni with ID 672847\n",
      "Trying Plouaret with ID 6429065\n",
      "Trying Wolowaru with ID 1621456\n",
      "Trying Butea with ID 683166\n",
      "Trying La Puerta de Segura with ID 2515617\n",
      "Trying Lucaya with ID 3571971\n",
      "Trying Riba de Ave with ID 2735220\n",
      "Trying La Masse with ID 3008253\n",
      "Trying Augsburg with ID 2954172\n",
      "Trying Roggenstede with ID 2845852\n",
      "Trying Greven with ID 2917542\n",
      "Trying Babakannagamukti with ID 7780605\n",
      "Trying Friesenheim with ID 6555270\n",
      "Trying Ragewitz with ID 2850910\n",
      "Trying Tangxian with ID 1793305\n",
      "Trying Braojos with ID 6359250\n",
      "Trying Yakuplu with ID 738064\n",
      "Trying Les Deux Alpes with ID 6354942\n",
      "Trying Albatross with ID 5883089\n",
      "Trying Coimbra with ID 2740637\n",
      "Trying Aksaray with ID 443185\n",
      "Trying Bierawa with ID 3103388\n",
      "Trying Zeppernick with ID 2804751\n",
      "Trying Wriedel with ID 2806002\n",
      "Trying Gema with ID 3121482\n",
      "Trying Harrislee with ID 6552023\n",
      "Trying Teixeira with ID 3386533\n",
      "Trying Merchweiler with ID 6547520\n",
      "Trying Supetarska Draga with ID 3189489\n",
      "Trying Bakersfield with ID 5325738\n",
      "Trying Calamba with ID 1720683\n",
      "Trying Mont-sous-Vaudrey with ID 2991954\n",
      "Trying Sanlifan with ID 1796696\n",
      "Trying Jhinjhāna with ID 1268961\n",
      "Trying Helsa with ID 2906654\n",
      "Trying Ferrière-la-Grande with ID 3018650\n",
      "Trying Arkadak with ID 581080\n",
      "Trying Dienten am Hochkönig with ID 2780988\n",
      "Trying Manzhouli with ID 2035836\n",
      "Trying Rödemis with ID 2846076\n",
      "Trying Concelho do Tarrafal de São Nicolau with ID 7602872\n",
      "Trying High Rock with ID 3572189\n",
      "Trying Piombino Dese with ID 3170670\n",
      "Trying Tocok with ID 1681630\n",
      "Trying Mu’er with ID 7343131\n",
      "Trying Bornheim with ID 6555172\n",
      "Trying Wang Chin with ID 1154093\n",
      "Trying Mellstorf with ID 7669761\n",
      "Trying Vésztő with ID 714073\n",
      "Trying Lamoni with ID 4864105\n",
      "Trying Le Vignau with ID 6456000\n",
      "Trying Montecorvino Rovella with ID 3172963\n",
      "Trying Villa Rumipal with ID 3832631\n",
      "Trying Alupka with ID 713514\n",
      "Trying Belgershain with ID 2951254\n",
      "Trying Aramanha with ID 2271613\n",
      "Trying Sapiãos with ID 8013562\n",
      "Trying Sanfang with ID 1924002\n",
      "Trying Mechanicstown with ID 5126509\n",
      "Trying Ouville-la-Bien-Tournée with ID 2988914\n",
      "Trying Orhon Aymag with ID 2055113\n",
      "Trying Wanjiangqu with ID 7001854\n",
      "Trying Regesbostel with ID 6552647\n",
      "Trying Mochales with ID 6357960\n",
      "Trying Lohercannan with ID 3291024\n",
      "Trying Hamptons at Boca Raton with ID 4157981\n",
      "Trying Saint-Pierre-des-Échaubrognes with ID 2977490\n",
      "Trying Gassin with ID 3016561\n",
      "Trying Sejenane with ID 2467368\n",
      "Trying Umbrete with ID 2510098\n",
      "Trying Thyregod with ID 2611731\n",
      "Trying Baschütz with ID 2952305\n",
      "Trying Espino de la Orbada with ID 6360371\n",
      "Trying Heroica Guaymas with ID 4005143\n",
      "Trying Brody with ID 775318\n",
      "Trying La Coronada with ID 2516049\n",
      "Trying Huétor Vega with ID 2516498\n",
      "Trying Turhal with ID 738618\n",
      "Trying Lectoure with ID 3004381\n",
      "Trying Pignans with ID 6451512\n",
      "Trying Tezze with ID 3165699\n",
      "Trying Bojong with ID 8052964\n",
      "Trying Puisseguin with ID 6613269\n",
      "Trying Saint-Marcory with ID 6429575\n",
      "Trying Isla Verde with ID 3853644\n",
      "Trying Dniprorudne with ID 709960\n",
      "Trying Tungawan with ID 1680677\n",
      "Trying Gaulzhofen with ID 2922251\n",
      "Trying Fuliang with ID 1810988\n",
      "Trying Herzhorn with ID 6552191\n",
      "Trying Cantù with ID 6539464\n",
      "Trying Oberreißen with ID 6550272\n",
      "Trying Pyrbaum with ID 2851543\n",
      "Trying Kincumber South with ID 2161390\n",
      "Trying Baros with ID 8018417\n",
      "Trying Moshny with ID 700730\n",
      "Trying Haute-Loire with ID 3013760\n",
      "Trying Pagelaran with ID 1633297\n",
      "Trying Allan with ID 5883752\n",
      "Trying Maella with ID 3117715\n",
      "Trying Fingig with ID 2960573\n",
      "Trying Thürkow with ID 6547908\n",
      "Trying Burnley with ID 2654264\n",
      "Trying Pommerit-Jaudy with ID 6429098\n",
      "Trying Gunjur Kuta with ID 2413417\n",
      "Trying Jonaswalde with ID 2894724\n",
      "Trying Chalkwell with ID 7116547\n",
      "Trying Stadt Winterthur (Kreis 1) / Heiligberg with ID 6295079\n",
      "Trying Limbo with ID 1706349\n",
      "Trying Vizmanos with ID 3104466\n",
      "Trying Kebonan with ID 7375801\n",
      "Trying Villanúa with ID 6358442\n",
      "Trying Oelixdorf with ID 2857347\n",
      "Trying Maimará with ID 3845254\n",
      "Trying Landkreis Bautzen with ID 2951880\n",
      "Trying Guarantã with ID 3461889\n",
      "Trying Stegaurach with ID 6556747\n",
      "Trying Llangothlin with ID 2159828\n",
      "Trying Cajaruro with ID 3699078\n",
      "Trying Palattae with ID 1633094\n",
      "Trying Siao with ID 1598222\n",
      "Trying Port-sur-Saône with ID 2985929\n",
      "Trying Pétionville with ID 3719028\n",
      "Trying Santa Anita with ID 3601698\n",
      "Trying Pouembout with ID 2138590\n",
      "Trying Marigot with ID 3576588\n",
      "Trying Zuienkerke with ID 2783154\n",
      "Trying Edna with ID 4855139\n",
      "Trying Aḩmadābād with ID 144569\n",
      "Trying Villalba de la Sierra with ID 3105513\n",
      "Trying Konstein with ID 2885675\n",
      "Trying Perach with ID 6556102\n",
      "Trying Huangbu with ID 1919498\n",
      "Trying Balldale with ID 2177079\n",
      "Trying Jefferson Heights with ID 5122584\n",
      "Trying Lin Calel with ID 3846869\n",
      "Trying São Lourenço do Douro with ID 2734450\n",
      "Trying Klondike with ID 5258735\n",
      "Trying Leonovo with ID 535967\n",
      "Trying Roquemaure with ID 6612449\n",
      "Trying Casale Litta with ID 6535097\n",
      "Trying Dollar with ID 2651151\n",
      "Trying Roost-Warendin with ID 2982890\n",
      "Trying Brammer with ID 6551813\n",
      "Trying Heber with ID 2908543\n",
      "Trying Searchmont with ID 6143293\n",
      "Trying Vilkerath with ID 2817235\n",
      "Trying Saraydüzü with ID 740177\n",
      "Trying Hosingen with ID 2960429\n",
      "Trying Pobladura de Valderaduey with ID 3113286\n",
      "Trying São José do Cedro with ID 3448667\n",
      "Trying Ferry Pass with ID 4155017\n",
      "Trying Velten with ID 2817674\n",
      "Trying Panagyurishte with ID 728448\n",
      "Trying Sayat with ID 6440239\n",
      "Trying Tsimasham with ID 1252610\n",
      "Trying Montbray with ID 2992894\n",
      "Trying Rochelle Park with ID 5103384\n",
      "Trying Caseyville with ID 4235355\n",
      "Trying La Rosita with ID 3525011\n",
      "Trying Corndale with ID 2170294\n",
      "Trying Bunsoh with ID 2941628\n",
      "Trying Tegalgunung with ID 8071145\n",
      "Trying Lake Wylie with ID 4584474\n",
      "Trying Recreio with ID 2735361\n",
      "Trying Ch’ŏngnim with ID 1845585\n",
      "Trying Puesto de Pailas with ID 3907159\n",
      "Trying Aldealengua with ID 3130505\n",
      "Trying Reinsberg with ID 7873032\n",
      "Trying Saint-Laurent-la-Vallée with ID 2978879\n",
      "Trying Lower Tully with ID 2159441\n",
      "Trying Rumford with ID 4977125\n",
      "Trying Hebbronville with ID 4696922\n"
     ]
    },
    {
     "name": "stdout",
     "output_type": "stream",
     "text": [
      "Trying Arneburg with ID 2955519\n",
      "Trying Vert-Saint-Denis with ID 6443896\n",
      "Trying Santa Barbara with ID 5392952\n",
      "Trying Alcubilla de Avellaneda with ID 3130552\n",
      "Trying Mazgirt with ID 304738\n",
      "Trying Nagar with ID 1262252\n",
      "Trying Pariaguan with ID 3630687\n",
      "Trying Eimersleben with ID 2931821\n",
      "Trying Arruazu with ID 3129351\n",
      "Trying Kae Dam with ID 1610510\n",
      "Trying Botumirim with ID 3469132\n",
      "Trying Aïn Defla with ID 2508228\n",
      "Trying Pikesville with ID 4365387\n",
      "Trying Leimuiden with ID 2751750\n",
      "Trying Wolfsbach with ID 2760915\n",
      "Trying Altencelle with ID 2957760\n",
      "Trying Hartford with ID 5255628\n",
      "Trying Milford with ID 4867373\n",
      "Trying Zacatecas with ID 3979844\n",
      "Trying Malvar with ID 1702415\n",
      "Trying Saint Just with ID 2638767\n",
      "Trying Kipit with ID 1708641\n",
      "Trying Toni Loma with ID 3650574\n",
      "Trying Ballentine Manor with ID 4146587\n",
      "Trying Camarena with ID 3126922\n",
      "Trying Goustranville with ID 3015482\n",
      "Trying Hals with ID 2620871\n",
      "Trying Épône with ID 3019985\n",
      "Trying Stadtbredimus with ID 6693355\n",
      "Trying Longyuanba with ID 1802256\n",
      "Trying Pontón Abajo with ID 3494552\n",
      "Trying Pasargunung with ID 7781112\n",
      "Trying Kevron with ID 1221417\n",
      "Trying Van Meter with ID 4880034\n",
      "Trying Rekovac with ID 786358\n",
      "Trying Săcele with ID 668315\n",
      "Trying Izuhara with ID 1861116\n",
      "Trying West Tamar with ID 7839373\n",
      "Trying Sundance with ID 5840284\n",
      "Trying Willingshausen with ID 2808533\n",
      "Trying Sim with ID 492944\n",
      "Trying Haundorf with ID 6556930\n",
      "Trying Alpharetta with ID 4179574\n",
      "Trying Gavín with ID 3121509\n",
      "Trying Centralia with ID 4380848\n",
      "Trying Kazil’ with ID 706557\n",
      "Trying Jalālābād with ID 1269447\n",
      "Trying Opaheke with ID 2185548\n",
      "Trying Liorac-sur-Louyre with ID 6616166\n",
      "Trying San Pedro with ID 6621273\n",
      "Trying Itamonte with ID 3460802\n",
      "Trying Gandu with ID 3462601\n",
      "Trying Staraya Poltavka with ID 489102\n",
      "Trying Santa Eulalia Bajera with ID 3109881\n",
      "Trying Jampang with ID 1710318\n",
      "Trying Échassières with ID 3020533\n",
      "Trying Marion with ID 4709161\n",
      "Trying Lobethal with ID 2067565\n",
      "Trying Capacho Nuevo with ID 3795218\n",
      "Trying Cornimont with ID 3023573\n",
      "Trying Westerkappeln with ID 2810289\n",
      "Trying Zubielqui with ID 3104234\n",
      "Trying Arevalillo de Cega with ID 3129645\n",
      "Trying Wilkes-Barre with ID 5219488\n",
      "Trying Częstochowa with ID 3100946\n",
      "Trying Bordesholm with ID 6551809\n",
      "Trying Pueblo with ID 5435464\n",
      "Trying Chinār with ID 1145124\n",
      "Trying Wrestedt with ID 2806007\n",
      "Trying Fisksätra with ID 3336566\n",
      "Trying Scipio Center with ID 5137397\n",
      "Trying Hasel with ID 6555882\n",
      "Trying Independence with ID 5658648\n",
      "Trying Roth with ID 2844256\n",
      "Trying Fontevraud-l'Abbaye with ID 3017850\n",
      "Trying El Tortuguero with ID 3617457\n",
      "Trying Iron River with ID 5983959\n",
      "Trying Maloye Ogryzlovo with ID 530629\n",
      "Trying Propriano with ID 6431113\n",
      "Trying Saint-Vaury with ID 2976691\n",
      "Trying Coolongolook with ID 2170594\n",
      "Trying Vrindāvan with ID 1253079\n",
      "Trying Khrebtovaya with ID 2022232\n",
      "Trying Witzhave with ID 2807177\n",
      "Trying San Giorgio Ionico with ID 3168295\n",
      "Trying Shchebetovka with ID 694320\n",
      "Trying Used with ID 6362957\n",
      "Trying Steinheim with ID 2827990\n",
      "Trying Banjar Wates Tengah with ID 7087015\n",
      "Trying Kromhof with ID 987015\n",
      "Trying Calarcá with ID 3687964\n",
      "Trying Los Puestos with ID 3845682\n",
      "Trying Magadino with ID 7286414\n",
      "Trying Anjia with ID 2038643\n",
      "Trying Damscheid with ID 6553885\n",
      "Trying Voulangis with ID 6443923\n",
      "Trying Sehara with ID 1188348\n",
      "Trying An Nuway‘imah with ID 284935\n",
      "Trying Montescudo with ID 6538016\n",
      "Trying Zihu with ID 7065291\n",
      "Trying Mount Union with ID 4713030\n",
      "Trying Saint-Urbain with ID 2976730\n",
      "Trying Nordheim with ID 2861971\n",
      "Trying Kronau with ID 6555610\n",
      "Trying Poličnik with ID 3192830\n",
      "Trying Geiselgasteig with ID 2921743\n",
      "Trying City of London with ID 2643744\n",
      "Trying Veenhusen with ID 2817793\n",
      "Trying Gerach with ID 2921224\n",
      "Trying Alfhausen with ID 6552973\n",
      "Trying Saint-Brice-en-Coglès with ID 2981285\n",
      "Trying Steenfeld with ID 2829183\n",
      "Trying Köseler with ID 742580\n",
      "Trying Nikolayevka with ID 521966\n",
      "Trying Lescheraines with ID 3001459\n",
      "Trying El Sombrero with ID 3641440\n",
      "Trying Benissa with ID 6355417\n",
      "Trying Madumulyorejo with ID 8140915\n",
      "Trying Teutônia with ID 3446556\n",
      "Trying Bentlage with ID 2950948\n",
      "Trying Bihār Sharīf with ID 1275716\n",
      "Trying Talun with ID 8076520\n",
      "Trying Kudachi with ID 1265811\n",
      "Trying Kołbiel with ID 768807\n",
      "Trying Spork with ID 2830155\n",
      "Trying Krasnyy with ID 541867\n",
      "Trying Wiemersdorf with ID 6552156\n",
      "Trying Dyankovo with ID 731757\n",
      "Trying Grange with ID 2070515\n",
      "Trying Lilbourn with ID 4395275\n",
      "Trying Gundersdorf with ID 7872265\n",
      "Trying Vryheid with ID 942470\n",
      "Trying Baní with ID 3512067\n",
      "Trying Baao with ID 1729815\n",
      "Trying Lewisville with ID 4475767\n",
      "Trying Brusartsi with ID 732862\n",
      "Trying Westminster with ID 5443910\n",
      "Trying Taastrup with ID 2611828\n",
      "Trying Centre with ID 3728069\n",
      "Trying Candela with ID 3180874\n",
      "Trying Nansan with ID 1281269\n",
      "Trying Bucquoi with ID 2800825\n",
      "Trying Lech with ID 7873719\n",
      "Trying Hauterives with ID 3013742\n",
      "Trying Dundagas Novads with ID 7628298\n",
      "Trying Montpezat-de-Quercy with ID 2992145\n",
      "Trying Bad Vilbel with ID 2953321\n",
      "Trying Sondika with ID 6362438\n",
      "Trying Patrick Fogarty Catholic Secondary School with ID 7870136\n",
      "Trying Sonning with ID 2637522\n",
      "Trying Gasen with ID 2778832\n",
      "Trying Buochs with ID 7285384\n",
      "Trying Zemeş with ID 662225\n",
      "Trying Rohri with ID 1166827\n",
      "Trying Strohweiler with ID 2825728\n",
      "Trying Herxheim am Berg with ID 2905527\n",
      "Trying Stössing with ID 7871894\n",
      "Trying Seravezza with ID 3166714\n",
      "Trying Sankt Oswald bei Plankenwarth with ID 7872343\n",
      "Trying Kaduy with ID 554535\n",
      "Trying Schnorrenberg with ID 2837259\n",
      "Trying Hluboká nad Vltavou with ID 3075731\n",
      "Trying Hancock County with ID 5280351\n",
      "Trying Sharon with ID 4445683\n",
      "Trying Buckajo with ID 2173661\n",
      "Trying Saint-Priest with ID 2977358\n",
      "Trying Lajatico with ID 3175240\n",
      "Trying Jabuk with ID 2162532\n",
      "Trying Chkalovo with ID 6417595\n",
      "Trying Großenseebach with ID 6556866\n",
      "Trying Wustrow with ID 2805449\n",
      "Trying Barchem with ID 2759429\n",
      "Trying Witten with ID 2831136\n",
      "Trying Lagartos with ID 3119689\n",
      "Trying Wilaya de Saïda with ID 2482557\n",
      "Trying Pagėgiai with ID 596399\n",
      "Trying Orta Nova with ID 3171900\n",
      "Trying Vielha with ID 3105994\n",
      "Trying Reisterstown with ID 4366647\n",
      "Trying Harpstedt with ID 2910344\n",
      "Trying Emeryville with ID 5346462\n",
      "Trying Escuinapa with ID 4006622\n",
      "Trying Iznalloz with ID 6357723\n",
      "Trying Xiaopu with ID 1806209\n",
      "Trying Saint-Basile-le-Grand with ID 6137489\n",
      "Trying Pirovskoye with ID 1494941\n",
      "Trying Kalchreuth with ID 6556869\n",
      "Trying Wawa with ID 1679645\n",
      "Trying Cernay-en-Dormois with ID 3027853\n",
      "Trying Sambong with ID 8068657\n",
      "Trying Khulbisāt with ID 1136414\n",
      "Trying Saltburn, Marske and New Marske with ID 7292205\n",
      "Trying Carmaux with ID 3028580\n",
      "Trying Mojoroto with ID 8075879\n",
      "Trying Negraşi with ID 672406\n",
      "Trying Saint-Marc-des-Carrières with ID 6138719\n",
      "Trying Tollo with ID 3165585\n",
      "Trying Goolman with ID 2165007\n",
      "Trying Al Ḩaffah with ID 173856\n",
      "Trying Shihan as Sufla with ID 70656\n",
      "Trying Rekingen with ID 2659074\n",
      "Trying Fontenay-le-Comte with ID 3017921\n",
      "Trying Mirabello Sannitico with ID 3173379\n",
      "Trying Plum with ID 5206606\n",
      "Trying Stuttgart with ID 2825297\n",
      "Trying Muçum with ID 3456596\n",
      "Trying Canelli with ID 6536041\n",
      "Trying Kortemark with ID 2794075\n",
      "Trying Oshikango with ID 3353996\n",
      "Trying Valverde de Leganés with ID 2509834\n",
      "Trying Crandon with ID 5249670\n",
      "Trying Piscina with ID 6535414\n",
      "Trying Gemeente Borsele with ID 2758588\n",
      "Trying José María Ezeiza with ID 3433975\n",
      "Trying Torreys with ID 5610350\n",
      "Trying Polling with ID 2852840\n",
      "Trying Katerynopil with ID 706634\n",
      "Trying Concepción with ID 3893894\n",
      "Trying Colstrip with ID 5645832\n",
      "Trying Heugraben with ID 2776441\n",
      "Trying Longcheng with ID 1802527\n",
      "Trying Sintea Mare with ID 666922\n",
      "Trying Arcos with ID 3471683\n",
      "Trying Sietow Dorf with ID 2832313\n",
      "Trying Eichenhausen with ID 2932313\n",
      "Trying Rathmolyon with ID 2961894\n",
      "Trying Ristijärvi with ID 639234\n",
      "Trying Boyuibe with ID 3923015\n",
      "Trying Hofstetten with ID 2902371\n",
      "Trying Johannedal with ID 2703038\n",
      "Trying Little Hampton with ID 2067621\n",
      "Trying Mālpils Novads with ID 7628364\n",
      "Trying Militari with ID 673302\n",
      "Trying Halny with ID 3060151\n",
      "Trying Bröckel with ID 2943998\n",
      "Trying Lac-Sainte-Marie with ID 6041177\n",
      "Trying Lupi Viejo with ID 1704982\n",
      "Trying Terra Rica with ID 3446581\n",
      "Trying Población Parque Forestal with ID 3875592\n",
      "Trying Tiouli with ID 2527749\n",
      "Trying Sajazarra with ID 6359114\n",
      "Trying Harlinstown with ID 2963807\n",
      "Trying Techiman with ID 2294727\n",
      "Trying Arrondissement de Blois with ID 3032212\n"
     ]
    },
    {
     "name": "stdout",
     "output_type": "stream",
     "text": [
      "Trying Narayola with ID 3115754\n",
      "Trying Algarra with ID 2522022\n",
      "Trying Kimball Stand with ID 5123396\n",
      "Trying Gerīzeh with ID 133533\n",
      "Trying Dobrosloveni with ID 679213\n",
      "Trying High Valleyfield with ID 2646921\n",
      "Trying Rizal with ID 1691606\n",
      "Trying Aliang with ID 1731525\n",
      "Trying Manicahan with ID 1701688\n",
      "Trying Baiguan with ID 7326405\n",
      "Trying Capitan with ID 5460322\n",
      "Trying Poxdorf with ID 2852395\n",
      "Trying Qaffīn with ID 282463\n",
      "Trying Newlands with ID 884428\n",
      "Trying Casteldelci with ID 6535033\n",
      "Trying Moftinu Mare with ID 672964\n",
      "Trying Ramlesreuth with ID 2850677\n",
      "Trying Frazzanò with ID 2524698\n",
      "Trying Maniákoi with ID 735327\n",
      "Trying Angering with ID 2956098\n",
      "Trying Villiers-en-Lieu with ID 6612611\n",
      "Trying Fresneda de la Sierra Tirón with ID 6356430\n",
      "Trying Winchester with ID 4313697\n",
      "Trying Youngstown with ID 5177568\n",
      "Trying Pirpirituba with ID 3391895\n",
      "Trying Savigneux with ID 2975556\n",
      "Trying Kaiseringen with ID 2894023\n",
      "Trying Bisel with ID 3032543\n",
      "Trying Setzingen with ID 6555992\n",
      "Trying Malherbe-sur-Ajon with ID 6447193\n",
      "Trying Kebonkai with ID 7914414\n",
      "Trying Triggianello with ID 3165179\n",
      "Trying Brücktal with ID 2943521\n",
      "Trying Longchi with ID 1910342\n",
      "Trying Sanchahe with ID 2035189\n",
      "Trying Changwat Nan with ID 1608451\n",
      "Trying Birkenhain with ID 2948579\n",
      "Trying Seewalchen with ID 2765231\n",
      "Trying Center Line with ID 4988400\n",
      "Trying Mountain House with ID 5375407\n",
      "Trying Hickeys Creek with ID 2163491\n",
      "Trying Nagornyy with ID 472732\n",
      "Trying Sinëvo with ID 492828\n",
      "Trying Novello with ID 3172176\n",
      "Trying Bickensohl with ID 2949288\n",
      "Trying Poienari with ID 670245\n",
      "Trying Hankasalmi with ID 659024\n",
      "Trying Okres Domažlice with ID 3076586\n",
      "Trying Rumbek with ID 367927\n",
      "Trying Wantirna South with ID 2144728\n",
      "Trying Leache with ID 3118636\n",
      "Trying Akwa with ID 2235748\n",
      "Trying Beechwood Estates with ID 4930215\n",
      "Trying Velestíno with ID 252074\n",
      "Trying Strzyżów with ID 757957\n",
      "Trying Carigara with ID 1718394\n",
      "Trying Nishio with ID 1855189\n",
      "Trying Bierdzany with ID 3103386\n",
      "Trying Cintasari with ID 8052183\n",
      "Trying Kierwang with ID 2891007\n",
      "Trying Marmanhac with ID 2995639\n",
      "Trying Bellante with ID 3182226\n",
      "Trying Poplaca with ID 669855\n",
      "Trying Krushuna with ID 6459363\n",
      "Trying Huerta Grande with ID 3854008\n",
      "Trying Möllenbeck with ID 6547959\n",
      "Trying Al’shanskiye Vyselki with ID 582387\n",
      "Trying Buch bei Jenbach with ID 7872624\n",
      "Trying Santo André with ID 2263439\n",
      "Trying Peking with ID 2855016\n",
      "Trying Kehrum with ID 2891894\n",
      "Trying Al Ḩayy with ID 99350\n",
      "Trying Newport County with ID 5223601\n",
      "Trying Hillgrove with ID 2163423\n",
      "Trying Blace with ID 792564\n",
      "Trying Ubonratana with ID 7510966\n",
      "Trying Ban Phan Don with ID 1614336\n",
      "Trying Duggirāla with ID 1272276\n",
      "Trying Brushy Creek with ID 4676920\n",
      "Trying Ridgewood with ID 5103269\n",
      "Trying Hollenbach with ID 2900590\n",
      "Trying Az Zaliah with ID 80383\n",
      "Trying San Mateo with ID 1689068\n",
      "Trying Muramvya Province with ID 425550\n",
      "Trying Monsey with ID 5127315\n",
      "Trying Bagà with ID 3129017\n",
      "Trying Adrian with ID 4983811\n",
      "Trying Ruthweiler with ID 2842796\n",
      "Trying Sanradela with ID 2734767\n",
      "Trying Napalitan with ID 1698208\n",
      "Trying Mexicaltzingo with ID 3518377\n",
      "Trying Claveria with ID 1717349\n",
      "Trying Kandahār with ID 1138335\n",
      "Trying Cibodas with ID 7921697\n",
      "Trying Brest with ID 629634\n",
      "Trying Wallensen with ID 2814627\n",
      "Trying San Luis with ID 3539092\n",
      "Trying Heusden with ID 2795800\n",
      "Trying Pastrengo with ID 3171399\n",
      "Trying Vastorf with ID 6552697\n",
      "Trying Vukovarsko-Srijemska Županija with ID 3337529\n",
      "Trying Doko with ID 7035391\n",
      "Trying Sardedo with ID 3109399\n",
      "Trying Saint-Germain-de-Livet with ID 2979829\n",
      "Trying Union City with ID 5105634\n",
      "Trying Tordouet with ID 6427521\n",
      "Trying Smržice with ID 3065689\n",
      "Trying Martinho Campos with ID 3457598\n",
      "Trying Sibuco with ID 1686760\n",
      "Trying Prutdorf with ID 2851802\n",
      "Trying Sundsvalls Kommun with ID 2670776\n",
      "Trying Egetswil with ID 6291256\n",
      "Trying Deleni with ID 679524\n",
      "Trying Gemeente Oisterwijk with ID 2749679\n",
      "Trying Giroussens with ID 3015937\n"
     ]
    }
   ],
   "source": [
    "# Base url\n",
    "url = ' http://api.openweathermap.org/data/2.5/weather?'\n",
    "# Test city w/o loop\n",
    "#cityname = cityselect.iloc[0]['name']\n",
    "#cityID = cityselect.iloc[0]['id']\n",
    "# Test list\n",
    "#testlist = cityselect.iloc[0:10]\n",
    "\n",
    "# Create lists to store responses\n",
    "ID = []\n",
    "name = []\n",
    "country = []\n",
    "clouds = []\n",
    "humidity = []\n",
    "temp = []\n",
    "max_temp = []\n",
    "wind_spd = []\n",
    "lat = []\n",
    "lon = []\n",
    "# Loop through cities\n",
    "for index,row in cityselect.iterrows():\n",
    "    # Print each city and ID number\n",
    "    print (f\"Trying {row['name']} with ID {row['id']}\")\n",
    "    try:\n",
    "        # build query url\n",
    "        query_url = f\"{url}appid={weather_api_key}&id={row['id']}&units=imperial\"\n",
    "        # request data for each city\n",
    "        response = requests.get(query_url).json()\n",
    "        # append values to lists\n",
    "        ID.append(row['id'])\n",
    "        name.append(row['name'])\n",
    "        clouds.append(response['clouds']['all'])\n",
    "        humidity.append(response['main']['humidity'])\n",
    "        temp.append(response['main']['temp'])\n",
    "        max_temp.append(response['main']['temp_max'])\n",
    "        wind_spd.append(response['wind']['speed'])\n",
    "        lat.append(row['coord']['lat'])\n",
    "        lon.append(row['coord']['lon'])\n",
    "        country.append(row['country'])\n",
    "    except:\n",
    "        print('Error: ID not found')\n",
    "\n",
    "\n",
    "  "
   ]
  },
  {
   "cell_type": "code",
   "execution_count": 4,
   "metadata": {},
   "outputs": [],
   "source": [
    "#--- TEST CELL ---\n",
    "# This cell was for testing json locations and dataframe construction. Preserved in comments for reference.\n",
    "\n",
    "# response['clouds']['all'] = clouds\n",
    "# response['main']['humidity'] = humidity\n",
    "# response['main']['temp'] = temp\n",
    "# response['main']['temp_max'] = max temp\n",
    "# response['wind']['speed'] = wind speed\n",
    "\n",
    "# ID = cityID\n",
    "# name = cityname\n",
    "# clouds = response['clouds']['all']\n",
    "# humidity = response['main']['humidity']\n",
    "# temp = response['main']['temp']\n",
    "# max_temp = response['main']['temp_max']\n",
    "# wind_spd = response['wind']['speed']\n",
    "\n",
    "# weather_df = pd.DataFrame({\n",
    "#     'name' : [name],\n",
    "#     'clouds' : [clouds],\n",
    "#     'humidity' : [humidity],\n",
    "#     'temp' : [temp],\n",
    "#     'max_temp' : [max_temp],\n",
    "#     'wind_spd' : [wind_spd]\n",
    "# })\n",
    "# weather_df\n",
    "# --- END ---"
   ]
  },
  {
   "cell_type": "code",
   "execution_count": null,
   "metadata": {},
   "outputs": [],
   "source": []
  },
  {
   "cell_type": "markdown",
   "metadata": {},
   "source": [
    "### Convert Raw Data to DataFrame\n",
    "* Export the city data into a .csv.\n",
    "* Display the DataFrame"
   ]
  },
  {
   "cell_type": "code",
   "execution_count": 5,
   "metadata": {},
   "outputs": [
    {
     "data": {
      "text/html": [
       "<div>\n",
       "<style scoped>\n",
       "    .dataframe tbody tr th:only-of-type {\n",
       "        vertical-align: middle;\n",
       "    }\n",
       "\n",
       "    .dataframe tbody tr th {\n",
       "        vertical-align: top;\n",
       "    }\n",
       "\n",
       "    .dataframe thead th {\n",
       "        text-align: right;\n",
       "    }\n",
       "</style>\n",
       "<table border=\"1\" class=\"dataframe\">\n",
       "  <thead>\n",
       "    <tr style=\"text-align: right;\">\n",
       "      <th></th>\n",
       "      <th>name</th>\n",
       "      <th>country</th>\n",
       "      <th>clouds</th>\n",
       "      <th>humidity</th>\n",
       "      <th>temp</th>\n",
       "      <th>max_temp</th>\n",
       "      <th>wind_spd</th>\n",
       "      <th>lat</th>\n",
       "      <th>lon</th>\n",
       "    </tr>\n",
       "  </thead>\n",
       "  <tbody>\n",
       "    <tr>\n",
       "      <th>0</th>\n",
       "      <td>Wiangaree</td>\n",
       "      <td>AU</td>\n",
       "      <td>4</td>\n",
       "      <td>64</td>\n",
       "      <td>68.50</td>\n",
       "      <td>71.01</td>\n",
       "      <td>4.70</td>\n",
       "      <td>-28.516670</td>\n",
       "      <td>152.966675</td>\n",
       "    </tr>\n",
       "    <tr>\n",
       "      <th>1</th>\n",
       "      <td>Rodilana</td>\n",
       "      <td>ES</td>\n",
       "      <td>8</td>\n",
       "      <td>71</td>\n",
       "      <td>50.00</td>\n",
       "      <td>50.00</td>\n",
       "      <td>8.05</td>\n",
       "      <td>41.370590</td>\n",
       "      <td>-4.877980</td>\n",
       "    </tr>\n",
       "    <tr>\n",
       "      <th>2</th>\n",
       "      <td>Dörrenbach</td>\n",
       "      <td>DE</td>\n",
       "      <td>100</td>\n",
       "      <td>91</td>\n",
       "      <td>43.97</td>\n",
       "      <td>48.00</td>\n",
       "      <td>1.01</td>\n",
       "      <td>49.089722</td>\n",
       "      <td>7.961400</td>\n",
       "    </tr>\n",
       "    <tr>\n",
       "      <th>3</th>\n",
       "      <td>Heiiyugou</td>\n",
       "      <td>CN</td>\n",
       "      <td>100</td>\n",
       "      <td>50</td>\n",
       "      <td>41.40</td>\n",
       "      <td>41.40</td>\n",
       "      <td>2.75</td>\n",
       "      <td>40.804298</td>\n",
       "      <td>120.553680</td>\n",
       "    </tr>\n",
       "    <tr>\n",
       "      <th>4</th>\n",
       "      <td>Heilongjiang Sheng</td>\n",
       "      <td>CN</td>\n",
       "      <td>0</td>\n",
       "      <td>83</td>\n",
       "      <td>26.76</td>\n",
       "      <td>26.76</td>\n",
       "      <td>11.16</td>\n",
       "      <td>48.000000</td>\n",
       "      <td>128.000000</td>\n",
       "    </tr>\n",
       "  </tbody>\n",
       "</table>\n",
       "</div>"
      ],
      "text/plain": [
       "                 name country  clouds  humidity   temp  max_temp  wind_spd  \\\n",
       "0           Wiangaree      AU       4        64  68.50     71.01      4.70   \n",
       "1            Rodilana      ES       8        71  50.00     50.00      8.05   \n",
       "2          Dörrenbach      DE     100        91  43.97     48.00      1.01   \n",
       "3           Heiiyugou      CN     100        50  41.40     41.40      2.75   \n",
       "4  Heilongjiang Sheng      CN       0        83  26.76     26.76     11.16   \n",
       "\n",
       "         lat         lon  \n",
       "0 -28.516670  152.966675  \n",
       "1  41.370590   -4.877980  \n",
       "2  49.089722    7.961400  \n",
       "3  40.804298  120.553680  \n",
       "4  48.000000  128.000000  "
      ]
     },
     "execution_count": 5,
     "metadata": {},
     "output_type": "execute_result"
    }
   ],
   "source": [
    "# Assemble dataframe\n",
    "weather_df = pd.DataFrame({\n",
    "    'name' : name,\n",
    "    'country' : country,\n",
    "    'clouds' : clouds,\n",
    "    'humidity' : humidity,\n",
    "    'temp' : temp,\n",
    "    'max_temp' : max_temp,\n",
    "    'wind_spd' : wind_spd,\n",
    "    'lat' : lat,\n",
    "    'lon' : lon\n",
    "})\n",
    "\n",
    "weather_df.to_csv('outputs\\weatherdata.csv')\n",
    "weather_df.head()"
   ]
  },
  {
   "cell_type": "code",
   "execution_count": null,
   "metadata": {},
   "outputs": [],
   "source": []
  },
  {
   "cell_type": "markdown",
   "metadata": {},
   "source": [
    "## Inspect the data and remove the cities where the humidity > 100%.\n",
    "----\n",
    "Skip this step if there are no cities that have humidity > 100%. "
   ]
  },
  {
   "cell_type": "code",
   "execution_count": 6,
   "metadata": {},
   "outputs": [
    {
     "name": "stdout",
     "output_type": "stream",
     "text": [
      "No cities with over 100% humidity\n"
     ]
    }
   ],
   "source": [
    "if weather_df['humidity'].max()<=100:\n",
    "    print('No cities with over 100% humidity')"
   ]
  },
  {
   "cell_type": "code",
   "execution_count": 7,
   "metadata": {},
   "outputs": [],
   "source": [
    "#  Get the indices of cities that have humidity over 100%.\n"
   ]
  },
  {
   "cell_type": "code",
   "execution_count": 8,
   "metadata": {},
   "outputs": [],
   "source": [
    "# Make a new DataFrame equal to the city data to drop all humidity outliers by index.\n",
    "# Passing \"inplace=False\" will make a copy of the city_data DataFrame, which we call \"clean_city_data\".\n"
   ]
  },
  {
   "cell_type": "code",
   "execution_count": null,
   "metadata": {},
   "outputs": [],
   "source": [
    "\n"
   ]
  },
  {
   "cell_type": "markdown",
   "metadata": {},
   "source": [
    "## Plotting the Data\n",
    "* Use proper labeling of the plots using plot titles (including date of analysis) and axes labels.\n",
    "* Save the plotted figures as .pngs."
   ]
  },
  {
   "cell_type": "markdown",
   "metadata": {},
   "source": [
    "## Latitude vs. Temperature Plot"
   ]
  },
  {
   "cell_type": "code",
   "execution_count": 9,
   "metadata": {
    "scrolled": true
   },
   "outputs": [
    {
     "data": {
      "image/png": "[encoded data removed]",
      "text/plain": [
       "<Figure size 432x288 with 1 Axes>"
      ]
     },
     "metadata": {
      "needs_background": "light"
     },
     "output_type": "display_data"
    }
   ],
   "source": [
    "fig1, ax1 = plt.subplots()\n",
    "ax1.set_title('Latitude and Temperature Selected Cities')\n",
    "ax1.set_xlabel('Latitude (deg)')\n",
    "ax1.set_ylabel('Temperature (Fahrenheit)')\n",
    "ax1.scatter(weather_df['lat'], weather_df['temp'])\n",
    "plt.savefig('outputs/LatTemp.png')"
   ]
  },
  {
   "cell_type": "markdown",
   "metadata": {},
   "source": [
    "This plot shows the relationship between a city's latitude and current temperature. It shows that cities near the equator tended to have higher temperatures while cities in further the equator have low temperatures. The correlation appears sinusoidal. "
   ]
  },
  {
   "cell_type": "markdown",
   "metadata": {},
   "source": [
    "## Latitude vs. Humidity Plot"
   ]
  },
  {
   "cell_type": "code",
   "execution_count": 10,
   "metadata": {},
   "outputs": [
    {
     "data": {
      "image/png": "[encoded data removed]",
      "text/plain": [
       "<Figure size 432x288 with 1 Axes>"
      ]
     },
     "metadata": {
      "needs_background": "light"
     },
     "output_type": "display_data"
    }
   ],
   "source": [
    "fig2, ax2 = plt.subplots()\n",
    "ax2.set_title('Latitude and Humidity Selected Cities')\n",
    "ax2.set_xlabel('Latitude (deg)')\n",
    "ax2.set_ylabel('Humidity (%)')\n",
    "ax2.scatter(weather_df['lat'], weather_df['humidity'])\n",
    "plt.savefig('outputs/LatHumid.png')"
   ]
  },
  {
   "cell_type": "markdown",
   "metadata": {},
   "source": [
    "This plot shows the relationship between a city's latitude and current humidity. It does not show an apparent relationship between humidity and latitude. "
   ]
  },
  {
   "cell_type": "markdown",
   "metadata": {},
   "source": [
    "## Latitude vs. Cloudiness Plot"
   ]
  },
  {
   "cell_type": "code",
   "execution_count": 11,
   "metadata": {},
   "outputs": [
    {
     "data": {
      "image/png": "[encoded data removed]",
      "text/plain": [
       "<Figure size 432x288 with 1 Axes>"
      ]
     },
     "metadata": {
      "needs_background": "light"
     },
     "output_type": "display_data"
    }
   ],
   "source": [
    "fig3, ax3 = plt.subplots()\n",
    "ax3.set_title('Latitude and Cloudiness Selected Cities')\n",
    "ax3.set_xlabel('Latitude (deg)')\n",
    "ax3.set_ylabel('Cloudiness (%)')\n",
    "ax3.scatter(weather_df['lat'], weather_df['clouds'])\n",
    "plt.savefig('outputs/LatCloud.png')"
   ]
  },
  {
   "cell_type": "markdown",
   "metadata": {},
   "source": [
    "This plot shows the relationship between a city's latitude and current cloudiness. It does not show an apparent relationship between cloudiness and latitude. "
   ]
  },
  {
   "cell_type": "markdown",
   "metadata": {},
   "source": [
    "## Latitude vs. Wind Speed Plot"
   ]
  },
  {
   "cell_type": "code",
   "execution_count": 12,
   "metadata": {},
   "outputs": [
    {
     "data": {
      "image/png": "[encoded data removed]",
      "text/plain": [
       "<Figure size 432x288 with 1 Axes>"
      ]
     },
     "metadata": {
      "needs_background": "light"
     },
     "output_type": "display_data"
    }
   ],
   "source": [
    "fig4, ax4 = plt.subplots()\n",
    "ax4.set_title('Latitude and Wind Speed Selected Cities')\n",
    "ax4.set_xlabel('Latitude (deg)')\n",
    "ax4.set_ylabel('Wind Speed (mph)')\n",
    "ax4.scatter(weather_df['lat'], weather_df['wind_spd'])\n",
    "plt.savefig('outputs/LatWind.png')"
   ]
  },
  {
   "cell_type": "markdown",
   "metadata": {},
   "source": [
    "This plot shows the relationship between a city's latitude and current wind speed. It does not show an apparent relationship between humidity and wind speed. "
   ]
  },
  {
   "cell_type": "markdown",
   "metadata": {},
   "source": [
    "## Linear Regression"
   ]
  },
  {
   "cell_type": "code",
   "execution_count": 13,
   "metadata": {},
   "outputs": [
    {
     "data": {
      "text/html": [
       "<div>\n",
       "<style scoped>\n",
       "    .dataframe tbody tr th:only-of-type {\n",
       "        vertical-align: middle;\n",
       "    }\n",
       "\n",
       "    .dataframe tbody tr th {\n",
       "        vertical-align: top;\n",
       "    }\n",
       "\n",
       "    .dataframe thead th {\n",
       "        text-align: right;\n",
       "    }\n",
       "</style>\n",
       "<table border=\"1\" class=\"dataframe\">\n",
       "  <thead>\n",
       "    <tr style=\"text-align: right;\">\n",
       "      <th></th>\n",
       "      <th>name</th>\n",
       "      <th>country</th>\n",
       "      <th>clouds</th>\n",
       "      <th>humidity</th>\n",
       "      <th>temp</th>\n",
       "      <th>max_temp</th>\n",
       "      <th>wind_spd</th>\n",
       "      <th>lat</th>\n",
       "      <th>lon</th>\n",
       "    </tr>\n",
       "  </thead>\n",
       "  <tbody>\n",
       "    <tr>\n",
       "      <th>1</th>\n",
       "      <td>Rodilana</td>\n",
       "      <td>ES</td>\n",
       "      <td>8</td>\n",
       "      <td>71</td>\n",
       "      <td>50.00</td>\n",
       "      <td>50.00</td>\n",
       "      <td>8.05</td>\n",
       "      <td>41.370590</td>\n",
       "      <td>-4.877980</td>\n",
       "    </tr>\n",
       "    <tr>\n",
       "      <th>2</th>\n",
       "      <td>Dörrenbach</td>\n",
       "      <td>DE</td>\n",
       "      <td>100</td>\n",
       "      <td>91</td>\n",
       "      <td>43.97</td>\n",
       "      <td>48.00</td>\n",
       "      <td>1.01</td>\n",
       "      <td>49.089722</td>\n",
       "      <td>7.961400</td>\n",
       "    </tr>\n",
       "    <tr>\n",
       "      <th>3</th>\n",
       "      <td>Heiiyugou</td>\n",
       "      <td>CN</td>\n",
       "      <td>100</td>\n",
       "      <td>50</td>\n",
       "      <td>41.40</td>\n",
       "      <td>41.40</td>\n",
       "      <td>2.75</td>\n",
       "      <td>40.804298</td>\n",
       "      <td>120.553680</td>\n",
       "    </tr>\n",
       "    <tr>\n",
       "      <th>4</th>\n",
       "      <td>Heilongjiang Sheng</td>\n",
       "      <td>CN</td>\n",
       "      <td>0</td>\n",
       "      <td>83</td>\n",
       "      <td>26.76</td>\n",
       "      <td>26.76</td>\n",
       "      <td>11.16</td>\n",
       "      <td>48.000000</td>\n",
       "      <td>128.000000</td>\n",
       "    </tr>\n",
       "    <tr>\n",
       "      <th>6</th>\n",
       "      <td>San Carlos del Zulia</td>\n",
       "      <td>VE</td>\n",
       "      <td>78</td>\n",
       "      <td>83</td>\n",
       "      <td>80.60</td>\n",
       "      <td>80.60</td>\n",
       "      <td>6.69</td>\n",
       "      <td>9.000030</td>\n",
       "      <td>-71.913521</td>\n",
       "    </tr>\n",
       "    <tr>\n",
       "      <th>...</th>\n",
       "      <td>...</td>\n",
       "      <td>...</td>\n",
       "      <td>...</td>\n",
       "      <td>...</td>\n",
       "      <td>...</td>\n",
       "      <td>...</td>\n",
       "      <td>...</td>\n",
       "      <td>...</td>\n",
       "      <td>...</td>\n",
       "    </tr>\n",
       "    <tr>\n",
       "      <th>595</th>\n",
       "      <td>Sundsvalls Kommun</td>\n",
       "      <td>SE</td>\n",
       "      <td>0</td>\n",
       "      <td>92</td>\n",
       "      <td>36.09</td>\n",
       "      <td>37.99</td>\n",
       "      <td>5.82</td>\n",
       "      <td>62.383331</td>\n",
       "      <td>17.299999</td>\n",
       "    </tr>\n",
       "    <tr>\n",
       "      <th>596</th>\n",
       "      <td>Egetswil</td>\n",
       "      <td>CH</td>\n",
       "      <td>40</td>\n",
       "      <td>86</td>\n",
       "      <td>41.49</td>\n",
       "      <td>42.01</td>\n",
       "      <td>4.70</td>\n",
       "      <td>47.471859</td>\n",
       "      <td>8.584510</td>\n",
       "    </tr>\n",
       "    <tr>\n",
       "      <th>597</th>\n",
       "      <td>Deleni</td>\n",
       "      <td>RO</td>\n",
       "      <td>18</td>\n",
       "      <td>71</td>\n",
       "      <td>54.01</td>\n",
       "      <td>55.00</td>\n",
       "      <td>5.82</td>\n",
       "      <td>46.549999</td>\n",
       "      <td>27.750000</td>\n",
       "    </tr>\n",
       "    <tr>\n",
       "      <th>598</th>\n",
       "      <td>Gemeente Oisterwijk</td>\n",
       "      <td>NL</td>\n",
       "      <td>90</td>\n",
       "      <td>93</td>\n",
       "      <td>45.43</td>\n",
       "      <td>46.99</td>\n",
       "      <td>4.70</td>\n",
       "      <td>51.566669</td>\n",
       "      <td>5.183330</td>\n",
       "    </tr>\n",
       "    <tr>\n",
       "      <th>599</th>\n",
       "      <td>Giroussens</td>\n",
       "      <td>FR</td>\n",
       "      <td>94</td>\n",
       "      <td>93</td>\n",
       "      <td>51.26</td>\n",
       "      <td>51.80</td>\n",
       "      <td>5.82</td>\n",
       "      <td>43.761990</td>\n",
       "      <td>1.776080</td>\n",
       "    </tr>\n",
       "  </tbody>\n",
       "</table>\n",
       "<p>527 rows × 9 columns</p>\n",
       "</div>"
      ],
      "text/plain": [
       "                     name country  clouds  humidity   temp  max_temp  \\\n",
       "1                Rodilana      ES       8        71  50.00     50.00   \n",
       "2              Dörrenbach      DE     100        91  43.97     48.00   \n",
       "3               Heiiyugou      CN     100        50  41.40     41.40   \n",
       "4      Heilongjiang Sheng      CN       0        83  26.76     26.76   \n",
       "6    San Carlos del Zulia      VE      78        83  80.60     80.60   \n",
       "..                    ...     ...     ...       ...    ...       ...   \n",
       "595     Sundsvalls Kommun      SE       0        92  36.09     37.99   \n",
       "596              Egetswil      CH      40        86  41.49     42.01   \n",
       "597                Deleni      RO      18        71  54.01     55.00   \n",
       "598   Gemeente Oisterwijk      NL      90        93  45.43     46.99   \n",
       "599            Giroussens      FR      94        93  51.26     51.80   \n",
       "\n",
       "     wind_spd        lat         lon  \n",
       "1        8.05  41.370590   -4.877980  \n",
       "2        1.01  49.089722    7.961400  \n",
       "3        2.75  40.804298  120.553680  \n",
       "4       11.16  48.000000  128.000000  \n",
       "6        6.69   9.000030  -71.913521  \n",
       "..        ...        ...         ...  \n",
       "595      5.82  62.383331   17.299999  \n",
       "596      4.70  47.471859    8.584510  \n",
       "597      5.82  46.549999   27.750000  \n",
       "598      4.70  51.566669    5.183330  \n",
       "599      5.82  43.761990    1.776080  \n",
       "\n",
       "[527 rows x 9 columns]"
      ]
     },
     "execution_count": 13,
     "metadata": {},
     "output_type": "execute_result"
    }
   ],
   "source": [
    "# Split cities in norther nand southern hemispheres\n",
    "north_cities = weather_df[weather_df['lat']>0]\n",
    "south_cities = weather_df[weather_df['lat']<0]\n",
    "north_cities"
   ]
  },
  {
   "cell_type": "markdown",
   "metadata": {},
   "source": [
    "####  Northern Hemisphere - Max Temp vs. Latitude Linear Regression"
   ]
  },
  {
   "cell_type": "code",
   "execution_count": 14,
   "metadata": {},
   "outputs": [
    {
     "name": "stdout",
     "output_type": "stream",
     "text": [
      "The r-squared is: 0.599896432263603\n"
     ]
    },
    {
     "data": {
      "image/png": "[encoded data removed]",
      "text/plain": [
       "<Figure size 432x288 with 1 Axes>"
      ]
     },
     "metadata": {
      "needs_background": "light"
     },
     "output_type": "display_data"
    }
   ],
   "source": [
    "x_values = north_cities['lat']\n",
    "y_values = north_cities['max_temp']\n",
    "(slope, intercept, rvalue, pvalue, stderr) = stats.linregress(x_values, y_values)\n",
    "regress_values = x_values * slope + intercept\n",
    "line_eq = \"y = \" + str(round(slope,2)) + \"x + \" + str(round(intercept,2))\n",
    "plt.scatter(x_values,y_values)\n",
    "plt.plot(x_values,regress_values,\"r-\")\n",
    "plt.annotate(line_eq,(5,35),fontsize=15,color=\"red\")\n",
    "plt.xlabel('Latitude (deg)')\n",
    "plt.ylabel('Max Temperature (Fahrenheit)')\n",
    "plt.title('Latitude and Maximum Temperature in the Northern Hemisphere')\n",
    "print(f\"The r-squared is: {rvalue**2}\")\n",
    "plt.show()"
   ]
  },
  {
   "cell_type": "markdown",
   "metadata": {},
   "source": []
  },
  {
   "cell_type": "markdown",
   "metadata": {},
   "source": [
    "####  Southern Hemisphere - Max Temp vs. Latitude Linear Regression"
   ]
  },
  {
   "cell_type": "code",
   "execution_count": 15,
   "metadata": {},
   "outputs": [
    {
     "name": "stdout",
     "output_type": "stream",
     "text": [
      "The r-squared is: 0.15659057663139864\n"
     ]
    },
    {
     "data": {
      "image/png": "[encoded data removed]",
      "text/plain": [
       "<Figure size 432x288 with 1 Axes>"
      ]
     },
     "metadata": {
      "needs_background": "light"
     },
     "output_type": "display_data"
    }
   ],
   "source": [
    "x_values = south_cities['lat']\n",
    "y_values = south_cities['max_temp']\n",
    "(slope, intercept, rvalue, pvalue, stderr) = stats.linregress(x_values, y_values)\n",
    "regress_values = x_values * slope + intercept\n",
    "line_eq = \"y = \" + str(round(slope,2)) + \"x + \" + str(round(intercept,2))\n",
    "plt.scatter(x_values,y_values)\n",
    "plt.plot(x_values,regress_values,\"r-\")\n",
    "plt.annotate(line_eq,(-25,45),fontsize=15,color=\"red\")\n",
    "plt.xlabel('Latitude (deg)')\n",
    "plt.ylabel('Max Temperature (Fahrenheit)')\n",
    "plt.title('Latitude and Maximum Temperature in the Southern Hemisphere')\n",
    "print(f\"The r-squared is: {rvalue**2}\")\n",
    "plt.show()"
   ]
  },
  {
   "cell_type": "markdown",
   "metadata": {},
   "source": [
    "The two plots above show linear regressions for latitude and maximum temperature in the northern and southern hemispheres. The northern hemisphere shows a stronger, negative correlation, and the southern hemisphere shows a weaker, positive correlation. These results suggest that temperatures near the equator tend to be higher. "
   ]
  },
  {
   "cell_type": "markdown",
   "metadata": {},
   "source": [
    "####  Northern Hemisphere - Humidity (%) vs. Latitude Linear Regression"
   ]
  },
  {
   "cell_type": "code",
   "execution_count": 16,
   "metadata": {},
   "outputs": [
    {
     "name": "stdout",
     "output_type": "stream",
     "text": [
      "The r-squared is: 0.028406771927116842\n"
     ]
    },
    {
     "data": {
      "image/png": "[encoded data removed]",
      "text/plain": [
       "<Figure size 432x288 with 1 Axes>"
      ]
     },
     "metadata": {
      "needs_background": "light"
     },
     "output_type": "display_data"
    }
   ],
   "source": [
    "x_values = north_cities['lat']\n",
    "y_values = north_cities['humidity']\n",
    "(slope, intercept, rvalue, pvalue, stderr) = stats.linregress(x_values, y_values)\n",
    "regress_values = x_values * slope + intercept\n",
    "line_eq = \"y = \" + str(round(slope,2)) + \"x + \" + str(round(intercept,2))\n",
    "plt.scatter(x_values,y_values)\n",
    "plt.plot(x_values,regress_values,\"r-\")\n",
    "plt.annotate(line_eq,(5,35),fontsize=15,color=\"red\")\n",
    "plt.xlabel('Latitude (deg)')\n",
    "plt.ylabel('Humidity (%)')\n",
    "plt.title('Latitude and Humidity in the Northern Hemisphere')\n",
    "print(f\"The r-squared is: {rvalue**2}\")\n",
    "plt.show()"
   ]
  },
  {
   "cell_type": "markdown",
   "metadata": {},
   "source": [
    "####  Southern Hemisphere - Humidity (%) vs. Latitude Linear Regression"
   ]
  },
  {
   "cell_type": "code",
   "execution_count": 17,
   "metadata": {},
   "outputs": [
    {
     "name": "stdout",
     "output_type": "stream",
     "text": [
      "The r-squared is: 0.11984270675940727\n"
     ]
    },
    {
     "data": {
      "image/png": "[encoded data removed]",
      "text/plain": [
       "<Figure size 432x288 with 1 Axes>"
      ]
     },
     "metadata": {
      "needs_background": "light"
     },
     "output_type": "display_data"
    }
   ],
   "source": [
    "x_values = south_cities['lat']\n",
    "y_values = south_cities['humidity']\n",
    "(slope, intercept, rvalue, pvalue, stderr) = stats.linregress(x_values, y_values)\n",
    "regress_values = x_values * slope + intercept\n",
    "line_eq = \"y = \" + str(round(slope,2)) + \"x + \" + str(round(intercept,2))\n",
    "plt.scatter(x_values,y_values)\n",
    "plt.plot(x_values,regress_values,\"r-\")\n",
    "plt.annotate(line_eq,(-25,45),fontsize=15,color=\"red\")\n",
    "plt.xlabel('Latitude (deg)')\n",
    "plt.ylabel('Humidity (%)')\n",
    "plt.title('Latitude and Humidity in the Southern Hemisphere')\n",
    "print(f\"The r-squared is: {rvalue**2}\")\n",
    "plt.show()"
   ]
  },
  {
   "cell_type": "markdown",
   "metadata": {},
   "source": [
    "The two plots above show linear regressions for latitude and humidity in the northern and southern hemispheres. Both hemispheres do not show a correlation between these variables. Investigation of other geographic factors such as proximity to bodies of water may show better results."
   ]
  },
  {
   "cell_type": "markdown",
   "metadata": {},
   "source": [
    "####  Northern Hemisphere - Cloudiness (%) vs. Latitude Linear Regression"
   ]
  },
  {
   "cell_type": "code",
   "execution_count": 18,
   "metadata": {},
   "outputs": [
    {
     "name": "stdout",
     "output_type": "stream",
     "text": [
      "The r-squared is: 0.024120747676937542\n"
     ]
    },
    {
     "data": {
      "image/png": "[encoded data removed]",
      "text/plain": [
       "<Figure size 432x288 with 1 Axes>"
      ]
     },
     "metadata": {
      "needs_background": "light"
     },
     "output_type": "display_data"
    }
   ],
   "source": [
    "x_values = north_cities['lat']\n",
    "y_values = north_cities['clouds']\n",
    "(slope, intercept, rvalue, pvalue, stderr) = stats.linregress(x_values, y_values)\n",
    "regress_values = x_values * slope + intercept\n",
    "line_eq = \"y = \" + str(round(slope,2)) + \"x + \" + str(round(intercept,2))\n",
    "plt.scatter(x_values,y_values)\n",
    "plt.plot(x_values,regress_values,\"r-\")\n",
    "plt.annotate(line_eq,(5,35),fontsize=15,color=\"red\")\n",
    "plt.xlabel('Latitude (deg)')\n",
    "plt.ylabel('Cloudiness (%)')\n",
    "plt.title('Latitude and Cloudiness in the Northern Hemisphere')\n",
    "print(f\"The r-squared is: {rvalue**2}\")\n",
    "plt.show()"
   ]
  },
  {
   "cell_type": "markdown",
   "metadata": {},
   "source": [
    "####  Southern Hemisphere - Cloudiness (%) vs. Latitude Linear Regression"
   ]
  },
  {
   "cell_type": "code",
   "execution_count": 19,
   "metadata": {},
   "outputs": [
    {
     "name": "stdout",
     "output_type": "stream",
     "text": [
      "The r-squared is: 0.20795138716384792\n"
     ]
    },
    {
     "data": {
      "image/png": "[encoded data removed]",
      "text/plain": [
       "<Figure size 432x288 with 1 Axes>"
      ]
     },
     "metadata": {
      "needs_background": "light"
     },
     "output_type": "display_data"
    }
   ],
   "source": [
    "x_values = south_cities['lat']\n",
    "y_values = south_cities['clouds']\n",
    "(slope, intercept, rvalue, pvalue, stderr) = stats.linregress(x_values, y_values)\n",
    "regress_values = x_values * slope + intercept\n",
    "line_eq = \"y = \" + str(round(slope,2)) + \"x + \" + str(round(intercept,2))\n",
    "plt.scatter(x_values,y_values)\n",
    "plt.plot(x_values,regress_values,\"r-\")\n",
    "plt.annotate(line_eq,(-25,45),fontsize=15,color=\"red\")\n",
    "plt.xlabel('Latitude (deg)')\n",
    "plt.ylabel('Cloudiness (%)')\n",
    "plt.title('Latitude and Cloudiness in the Southern Hemisphere')\n",
    "print(f\"The r-squared is: {rvalue**2}\")\n",
    "plt.show()"
   ]
  },
  {
   "cell_type": "markdown",
   "metadata": {},
   "source": [
    "The two plots above show linear regressions for latitude and cloudiness in the northern and southern hemispheres. The northern hemisphere shows no correlation between cloudiness and latitude. The southern hemisphere shows a weak, positive correlation. It may suggest some relationship, but it also may be coincidence driven by unrelated weather phenomena."
   ]
  },
  {
   "cell_type": "markdown",
   "metadata": {},
   "source": [
    "####  Northern Hemisphere - Wind Speed (mph) vs. Latitude Linear Regression"
   ]
  },
  {
   "cell_type": "code",
   "execution_count": 20,
   "metadata": {},
   "outputs": [
    {
     "name": "stdout",
     "output_type": "stream",
     "text": [
      "The r-squared is: 0.005050756985592571\n"
     ]
    },
    {
     "data": {
      "image/png": "[encoded data removed]",
      "text/plain": [
       "<Figure size 432x288 with 1 Axes>"
      ]
     },
     "metadata": {
      "needs_background": "light"
     },
     "output_type": "display_data"
    }
   ],
   "source": [
    "x_values = north_cities['lat']\n",
    "y_values = north_cities['wind_spd']\n",
    "(slope, intercept, rvalue, pvalue, stderr) = stats.linregress(x_values, y_values)\n",
    "regress_values = x_values * slope + intercept\n",
    "line_eq = \"y = \" + str(round(slope,2)) + \"x + \" + str(round(intercept,2))\n",
    "plt.scatter(x_values,y_values)\n",
    "plt.plot(x_values,regress_values,\"r-\")\n",
    "plt.annotate(line_eq,(5,22),fontsize=15,color=\"red\")\n",
    "plt.xlabel('Latitude (deg)')\n",
    "plt.ylabel('Wind Speed (mph)')\n",
    "plt.title('Latitude and Wind Speed in the Northern Hemisphere')\n",
    "print(f\"The r-squared is: {rvalue**2}\")\n",
    "plt.show()"
   ]
  },
  {
   "cell_type": "markdown",
   "metadata": {},
   "source": [
    "####  Southern Hemisphere - Wind Speed (mph) vs. Latitude Linear Regression"
   ]
  },
  {
   "cell_type": "code",
   "execution_count": 21,
   "metadata": {},
   "outputs": [
    {
     "name": "stdout",
     "output_type": "stream",
     "text": [
      "The r-squared is: 0.043365295622967724\n"
     ]
    },
    {
     "data": {
      "image/png": "[encoded data removed]",
      "text/plain": [
       "<Figure size 432x288 with 1 Axes>"
      ]
     },
     "metadata": {
      "needs_background": "light"
     },
     "output_type": "display_data"
    }
   ],
   "source": [
    "x_values = south_cities['lat']\n",
    "y_values = south_cities['wind_spd']\n",
    "(slope, intercept, rvalue, pvalue, stderr) = stats.linregress(x_values, y_values)\n",
    "regress_values = x_values * slope + intercept\n",
    "line_eq = \"y = \" + str(round(slope,2)) + \"x + \" + str(round(intercept,2))\n",
    "plt.scatter(x_values,y_values)\n",
    "plt.plot(x_values,regress_values,\"r-\")\n",
    "plt.annotate(line_eq,(-20,12),fontsize=15,color=\"red\")\n",
    "plt.xlabel('Latitude (deg)')\n",
    "plt.ylabel('Wind Speed (mph)')\n",
    "plt.title('Latitude and Wind Speed in the Southern Hemisphere')\n",
    "print(f\"The r-squared is: {rvalue**2}\")\n",
    "plt.show()"
   ]
  },
  {
   "cell_type": "markdown",
   "metadata": {},
   "source": [
    "The two plots above show linear regressions for latitude and wind speed in the northern and southern hemispheres. Both hemispheres do not show a correlation between these variables. Investigation of other geographic factors such as proximity to bodies of water or mountain ranges may show better results."
   ]
  }
 ],
 "metadata": {
  "anaconda-cloud": {},
  "kernel_info": {
   "name": "python3"
  },
  "kernelspec": {
   "display_name": "Python 3",
   "language": "python",
   "name": "python3"
  },
  "language_info": {
   "codemirror_mode": {
    "name": "ipython",
    "version": 3
   },
   "file_extension": ".py",
   "mimetype": "text/x-python",
   "name": "python",
   "nbconvert_exporter": "python",
   "pygments_lexer": "ipython3",
   "version": "3.6.10"
  },
  "latex_envs": {
   "LaTeX_envs_menu_present": true,
   "autoclose": false,
   "autocomplete": true,
   "bibliofile": "biblio.bib",
   "cite_by": "apalike",
   "current_citInitial": 1,
   "eqLabelWithNumbers": true,
   "eqNumInitial": 1,
   "hotkeys": {
    "equation": "Ctrl-E",
    "itemize": "Ctrl-I"
   },
   "labels_anchors": false,
   "latex_user_defs": false,
   "report_style_numbering": false,
   "user_envs_cfg": false
  },
  "nteract": {
   "version": "0.12.3"
  }
 },
 "nbformat": 4,
 "nbformat_minor": 2
}
